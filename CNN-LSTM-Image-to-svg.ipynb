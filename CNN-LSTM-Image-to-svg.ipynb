{
 "cells": [
  {
   "cell_type": "markdown",
   "source": [
    "# deep learning assignment"
   ],
   "metadata": {}
  },
  {
   "cell_type": "markdown",
   "source": [
    "# Import requirements"
   ],
   "metadata": {}
  },
  {
   "cell_type": "code",
   "execution_count": 4,
   "source": [
    "import numpy as np\r\n",
    "from PIL import Image\r\n",
    "from tensorflow.keras.models import Model, Sequential\r\n",
    "from tensorflow.keras.optimizers import Adam\r\n",
    "from tensorflow.keras.layers import Input, RepeatVector, Reshape, LSTM, Dropout, Dense, Conv2D, TimeDistributed, Activation,RepeatVector, MaxPooling2D, Flatten\r\n",
    "import matplotlib.pyplot as plt"
   ],
   "outputs": [],
   "metadata": {}
  },
  {
   "cell_type": "markdown",
   "source": [
    "# Part 1: ...........................Preparing SVG code...................................."
   ],
   "metadata": {}
  },
  {
   "cell_type": "markdown",
   "source": [
    "## step 1: SVG extraction and tokenization\n",
    "In this substep we will focus on the following steps:\n",
    "- load data\n",
    "- extract data\n",
    "- adding startseq and endseq in our svg examples\n",
    "- Use: startseq at the beginning of SVG code\n",
    "- Use: endseq at the end of the SVG code"
   ],
   "metadata": {}
  },
  {
   "cell_type": "code",
   "execution_count": 32,
   "source": [
    "path_to_train = 'C:/Users/voice/image-to-sequence-prediction/datasets/train/' \r\n",
    "path_to_test = 'C:/Users/voice/image-to-sequence-prediction/datasets/test/'\r\n",
    "save_path = 'C:/Users/voice/image-to-sequence-prediction/result/'"
   ],
   "outputs": [],
   "metadata": {}
  },
  {
   "cell_type": "code",
   "execution_count": 8,
   "source": [
    "def svg_extraction(my_path, svg):\r\n",
    "    target_texts = []\r\n",
    "    target_characters = set()\r\n",
    "    for num in range(48000):\r\n",
    "        num = str(num)\r\n",
    "        file = open(my_path+'svg/'+num+\".svg\", 'r')\r\n",
    "        for index, line in enumerate(file):\r\n",
    "\r\n",
    "            if index == 1:\r\n",
    "                target_text = 'startseq '+line+' endseq'\r\n",
    "                target_texts.append(target_text)\r\n",
    "                for char in target_text.split(\" \"):\r\n",
    "                    if char not in target_characters:\r\n",
    "                        target_characters.add(char)\r\n",
    "    \r\n",
    "    #Step 1: detect shape with the largest dimension       \r\n",
    "    largest_shape = 0\r\n",
    "    for x in target_texts:\r\n",
    "        x = x.split(\" \")\r\n",
    "        all_shapes = len(x)\r\n",
    "        if all_shapes > largest_shape:\r\n",
    "            largest_shape = all_shapes\r\n",
    "            \r\n",
    "    target_characters = sorted(list(target_characters))\r\n",
    "    num_decoder_tokens = len(target_characters)\r\n",
    "    max_decoder_seq_length = largest_shape\r\n",
    "    \r\n",
    "    return target_texts, target_characters, num_decoder_tokens, max_decoder_seq_length\r\n",
    "\r\n",
    "SVG = svg_extraction(path_to_train,'.svg')\r\n"
   ],
   "outputs": [],
   "metadata": {}
  },
  {
   "cell_type": "code",
   "execution_count": 9,
   "source": [
    "target_texts, target_characters, num_decoder_tokens, max_decoder_seq_length = SVG"
   ],
   "outputs": [],
   "metadata": {}
  },
  {
   "cell_type": "markdown",
   "source": [
    "# Checkpoint"
   ],
   "metadata": {}
  },
  {
   "cell_type": "code",
   "execution_count": 10,
   "source": [
    "print('SVG code training examples     :', len(target_texts))\r\n",
    "print('Number of unique output tokens :', num_decoder_tokens)\r\n",
    "print('Max sequence length for outputs:', max_decoder_seq_length)"
   ],
   "outputs": [
    {
     "output_type": "stream",
     "name": "stdout",
     "text": [
      "SVG code training examples     : 48000\n",
      "Number of unique output tokens : 55\n",
      "Max sequence length for outputs: 65\n"
     ]
    }
   ],
   "metadata": {}
  },
  {
   "cell_type": "markdown",
   "source": [
    "# step 2\n",
    "\n",
    "- create decoder input data\n",
    "- create decoder target data"
   ],
   "metadata": {}
  },
  {
   "cell_type": "code",
   "execution_count": 11,
   "source": [
    "target_token_index = dict([(word, i) for i, word in enumerate(target_characters)])\r\n",
    "decoder_input_data = np.zeros((len(target_texts), max_decoder_seq_length, num_decoder_tokens),dtype='float32')\r\n",
    "decoder_target_data = np.zeros((len(target_texts), max_decoder_seq_length, num_decoder_tokens),dtype='float32')"
   ],
   "outputs": [],
   "metadata": {}
  },
  {
   "cell_type": "markdown",
   "source": [
    "# step 3\n",
    "\n",
    "- Set decoder_target_data one timestemp ahead of decoder_input_data"
   ],
   "metadata": {}
  },
  {
   "cell_type": "code",
   "execution_count": 12,
   "source": [
    "target_token_index = dict([(word, i) for i, word in enumerate(target_characters)])\r\n",
    "\r\n",
    "decoder_input_data = np.zeros((len(target_texts), max_decoder_seq_length, num_decoder_tokens),dtype='float32')\r\n",
    "decoder_target_data = np.zeros((len(target_texts), max_decoder_seq_length, num_decoder_tokens),dtype='float32')\r\n",
    "\r\n",
    "for i,target_text in enumerate(target_texts):\r\n",
    "    target_text = target_text.split(\" \")\r\n",
    "    #print(i,target_text)\r\n",
    "    for t, char in enumerate(target_text):\r\n",
    "        # decoder_target_data is ahead of decoder_input_data by one timestep\r\n",
    "        decoder_input_data[i, t, target_token_index[char]] = 1.\r\n",
    "        if t > 0:\r\n",
    "            # decoder_target_data will be ahead by one timestep\r\n",
    "            # and will not include the start character.\r\n",
    "            decoder_target_data[i, t - 1, target_token_index[char]] = 1.\r\n",
    "    decoder_input_data[i, t + 1:, target_token_index['startseq']] = 1.\r\n",
    "    decoder_target_data[i, t:, target_token_index['startseq']] = 1."
   ],
   "outputs": [],
   "metadata": {}
  },
  {
   "cell_type": "markdown",
   "source": [
    "# Checkpoint"
   ],
   "metadata": {}
  },
  {
   "cell_type": "code",
   "execution_count": 13,
   "source": [
    "print(decoder_input_data.shape)\r\n",
    "print(decoder_target_data.shape)"
   ],
   "outputs": [
    {
     "output_type": "stream",
     "name": "stdout",
     "text": [
      "(48000, 65, 55)\n",
      "(48000, 65, 55)\n"
     ]
    }
   ],
   "metadata": {}
  },
  {
   "cell_type": "markdown",
   "source": [
    "# Part 2: ..........................Preparing PNG images......................................"
   ],
   "metadata": {}
  },
  {
   "cell_type": "markdown",
   "source": [
    "## step 1: PNG extraction and feature extraction\n",
    "In this substep we want to focus on the following steps:\n",
    "- load data\n",
    "- extract data in an array\n"
   ],
   "metadata": {}
  },
  {
   "cell_type": "code",
   "execution_count": 15,
   "source": [
    "def png_extraction(file_name, svg):\r\n",
    "    png_extract = []\r\n",
    "    for num in range(48000):\r\n",
    "        file = Image.open(file_name+str(num)+svg)\r\n",
    "        file = np.asarray(file)\r\n",
    "        png_extract.append(file)\r\n",
    "    \r\n",
    "    png_extract = np.array(png_extract)\r\n",
    "    return png_extract\r\n",
    "    file.close()\r\n",
    "PNG = png_extraction(path_to_train+'png/','.png')"
   ],
   "outputs": [],
   "metadata": {}
  },
  {
   "cell_type": "markdown",
   "source": [
    "# Checkpoint"
   ],
   "metadata": {}
  },
  {
   "cell_type": "code",
   "execution_count": 16,
   "source": [
    "print(PNG.shape)"
   ],
   "outputs": [
    {
     "output_type": "stream",
     "name": "stdout",
     "text": [
      "(48000, 64, 64, 4)\n"
     ]
    }
   ],
   "metadata": {}
  },
  {
   "cell_type": "markdown",
   "source": [
    "# Part 3: ..................................data overview................................................."
   ],
   "metadata": {}
  },
  {
   "cell_type": "code",
   "execution_count": 17,
   "source": [
    "encoder_input_data = PNG"
   ],
   "outputs": [],
   "metadata": {}
  },
  {
   "cell_type": "markdown",
   "source": [
    "# Checkpoint\n",
    "#### data overview\n",
    "- encoder_input_data\n",
    "- decoder_input_data\n",
    "- decoder_target_data"
   ],
   "metadata": {}
  },
  {
   "cell_type": "code",
   "execution_count": 18,
   "source": [
    "print(encoder_input_data.shape)\r\n",
    "print(decoder_input_data.shape)\r\n",
    "print(decoder_target_data.shape)"
   ],
   "outputs": [
    {
     "output_type": "stream",
     "name": "stdout",
     "text": [
      "(48000, 64, 64, 4)\n",
      "(48000, 65, 55)\n",
      "(48000, 65, 55)\n"
     ]
    }
   ],
   "metadata": {}
  },
  {
   "cell_type": "markdown",
   "source": [
    "# Part 4: .....................................Build Model.................................................\n",
    "\n",
    "- CNN: Learns features from PNG images\n",
    "- LSTM: Predicts the svg code sequence"
   ],
   "metadata": {}
  },
  {
   "cell_type": "code",
   "execution_count": 19,
   "source": [
    "# Parameters for the model.\r\n",
    "hidden_size = 128\r\n",
    "\r\n",
    "# Process image to sequence\r\n",
    "image_input = Input(shape=(64,64,4,))\r\n",
    "conv_layer1 = Conv2D(16, (3, 3), activation='relu', strides=(1,1), padding='same')(image_input)\r\n",
    "pool1 = MaxPooling2D(pool_size=(2,2),strides = None, padding = 'valid')(conv_layer1)\r\n",
    "conv_layer2 = Conv2D(16, (3, 3), activation='relu', strides=(2,2), padding='same')(pool1)\r\n",
    "pool2 = MaxPooling2D(pool_size=(2,2),strides = None, padding = 'valid')(conv_layer2)\r\n",
    "\r\n",
    "flatten_layer = Flatten()(pool2)\r\n",
    "dropout_layer = Dropout(0.5)(flatten_layer)\r\n",
    "encoder_input = Dense(256, activation = 'relu')(dropout_layer)\r\n",
    "\r\n",
    "encoder_inputs = RepeatVector(55)(encoder_input)\r\n",
    "encoder_rnn_layer = LSTM(hidden_size, return_sequences=True, return_state=True)\r\n",
    "encoder_outputs, state_h, state_c = encoder_rnn_layer(encoder_inputs)\r\n",
    "encoder_state = [state_h, state_c]\r\n",
    "\r\n",
    "decoder_inputs = Input(shape=(None, 55))\r\n",
    "\r\n",
    "decoder_rnn_layer = LSTM(hidden_size, return_sequences=True, return_state=True)\r\n",
    "decoder_outputs,_ ,_ = decoder_rnn_layer(decoder_inputs, initial_state=encoder_state)\r\n",
    "decoder_dense = Dense(55, activation='softmax')\r\n",
    "decoder_outputs = decoder_dense(decoder_outputs)\r\n",
    "\r\n",
    "# Define the model that will turn\r\n",
    "# `encoder_inputs` & `decoder_inputs` into `decoder_outputs`\r\n",
    "model = Model([image_input, decoder_inputs], decoder_outputs)\r\n",
    "model.compile(loss='categorical_crossentropy',\r\n",
    "                  optimizer= Adam(lr=0.0001),\r\n",
    "                  metrics=['accuracy'])\r\n",
    "\r\n",
    "model.summary()"
   ],
   "outputs": [
    {
     "output_type": "stream",
     "name": "stdout",
     "text": [
      "Model: \"model\"\n",
      "__________________________________________________________________________________________________\n",
      "Layer (type)                    Output Shape         Param #     Connected to                     \n",
      "==================================================================================================\n",
      "input_1 (InputLayer)            [(None, 64, 64, 4)]  0                                            \n",
      "__________________________________________________________________________________________________\n",
      "conv2d (Conv2D)                 (None, 64, 64, 16)   592         input_1[0][0]                    \n",
      "__________________________________________________________________________________________________\n",
      "max_pooling2d (MaxPooling2D)    (None, 32, 32, 16)   0           conv2d[0][0]                     \n",
      "__________________________________________________________________________________________________\n",
      "conv2d_1 (Conv2D)               (None, 16, 16, 16)   2320        max_pooling2d[0][0]              \n",
      "__________________________________________________________________________________________________\n",
      "max_pooling2d_1 (MaxPooling2D)  (None, 8, 8, 16)     0           conv2d_1[0][0]                   \n",
      "__________________________________________________________________________________________________\n",
      "flatten (Flatten)               (None, 1024)         0           max_pooling2d_1[0][0]            \n",
      "__________________________________________________________________________________________________\n",
      "dropout (Dropout)               (None, 1024)         0           flatten[0][0]                    \n",
      "__________________________________________________________________________________________________\n",
      "dense (Dense)                   (None, 256)          262400      dropout[0][0]                    \n",
      "__________________________________________________________________________________________________\n",
      "repeat_vector (RepeatVector)    (None, 55, 256)      0           dense[0][0]                      \n",
      "__________________________________________________________________________________________________\n",
      "input_2 (InputLayer)            [(None, None, 55)]   0                                            \n",
      "__________________________________________________________________________________________________\n",
      "lstm (LSTM)                     [(None, 55, 128), (N 197120      repeat_vector[0][0]              \n",
      "__________________________________________________________________________________________________\n",
      "lstm_1 (LSTM)                   [(None, None, 128),  94208       input_2[0][0]                    \n",
      "                                                                 lstm[0][1]                       \n",
      "                                                                 lstm[0][2]                       \n",
      "__________________________________________________________________________________________________\n",
      "dense_1 (Dense)                 (None, None, 55)     7095        lstm_1[0][0]                     \n",
      "==================================================================================================\n",
      "Total params: 563,735\n",
      "Trainable params: 563,735\n",
      "Non-trainable params: 0\n",
      "__________________________________________________________________________________________________\n"
     ]
    },
    {
     "output_type": "stream",
     "name": "stderr",
     "text": [
      "C:\\Users\\voice\\AppData\\Local\\Programs\\Python\\Python37\\lib\\site-packages\\keras\\optimizer_v2\\optimizer_v2.py:356: UserWarning: The `lr` argument is deprecated, use `learning_rate` instead.\n",
      "  \"The `lr` argument is deprecated, use `learning_rate` instead.\")\n"
     ]
    }
   ],
   "metadata": {}
  },
  {
   "cell_type": "markdown",
   "source": [
    "# fit model"
   ],
   "metadata": {}
  },
  {
   "cell_type": "code",
   "execution_count": 20,
   "source": [
    "cnn_lstm = model.fit([encoder_input_data, decoder_input_data], decoder_target_data,\r\n",
    "          batch_size= 64,\r\n",
    "          epochs= 100,\r\n",
    "          validation_split=0.2)"
   ],
   "outputs": [
    {
     "output_type": "stream",
     "name": "stdout",
     "text": [
      "Epoch 1/100\n",
      "600/600 [==============================] - 38s 37ms/step - loss: 1.8033 - accuracy: 0.6101 - val_loss: 1.2794 - val_accuracy: 0.7032\n",
      "Epoch 2/100\n",
      "600/600 [==============================] - 20s 33ms/step - loss: 1.1564 - accuracy: 0.7167 - val_loss: 1.0278 - val_accuracy: 0.7369\n",
      "Epoch 3/100\n",
      "600/600 [==============================] - 19s 32ms/step - loss: 0.8552 - accuracy: 0.7793 - val_loss: 0.6553 - val_accuracy: 0.8068\n",
      "Epoch 4/100\n",
      "600/600 [==============================] - 19s 31ms/step - loss: 0.5653 - accuracy: 0.8110 - val_loss: 0.5009 - val_accuracy: 0.8133\n",
      "Epoch 5/100\n",
      "600/600 [==============================] - 18s 31ms/step - loss: 0.4663 - accuracy: 0.8162 - val_loss: 0.4378 - val_accuracy: 0.8193\n",
      "Epoch 6/100\n",
      "600/600 [==============================] - 18s 31ms/step - loss: 0.4209 - accuracy: 0.8235 - val_loss: 0.4055 - val_accuracy: 0.8269\n",
      "Epoch 7/100\n",
      "600/600 [==============================] - 18s 31ms/step - loss: 0.3975 - accuracy: 0.8287 - val_loss: 0.3882 - val_accuracy: 0.8317\n",
      "Epoch 8/100\n",
      "600/600 [==============================] - 19s 31ms/step - loss: 0.3841 - accuracy: 0.8330 - val_loss: 0.3772 - val_accuracy: 0.8353\n",
      "Epoch 9/100\n",
      "600/600 [==============================] - 19s 31ms/step - loss: 0.3752 - accuracy: 0.8361 - val_loss: 0.3694 - val_accuracy: 0.8391\n",
      "Epoch 10/100\n",
      "600/600 [==============================] - 19s 31ms/step - loss: 0.3685 - accuracy: 0.8393 - val_loss: 0.3627 - val_accuracy: 0.8429\n",
      "Epoch 11/100\n",
      "600/600 [==============================] - 19s 31ms/step - loss: 0.3626 - accuracy: 0.8427 - val_loss: 0.3572 - val_accuracy: 0.8457\n",
      "Epoch 12/100\n",
      "600/600 [==============================] - 19s 31ms/step - loss: 0.3571 - accuracy: 0.8459 - val_loss: 0.3514 - val_accuracy: 0.8487\n",
      "Epoch 13/100\n",
      "600/600 [==============================] - 19s 31ms/step - loss: 0.3520 - accuracy: 0.8490 - val_loss: 0.3476 - val_accuracy: 0.8513\n",
      "Epoch 14/100\n",
      "600/600 [==============================] - 18s 31ms/step - loss: 0.3470 - accuracy: 0.8521 - val_loss: 0.3415 - val_accuracy: 0.8549\n",
      "Epoch 15/100\n",
      "600/600 [==============================] - 18s 31ms/step - loss: 0.3420 - accuracy: 0.8550 - val_loss: 0.3372 - val_accuracy: 0.8571\n",
      "Epoch 16/100\n",
      "600/600 [==============================] - 18s 31ms/step - loss: 0.3376 - accuracy: 0.8576 - val_loss: 0.3309 - val_accuracy: 0.8611\n",
      "Epoch 17/100\n",
      "600/600 [==============================] - 18s 31ms/step - loss: 0.3338 - accuracy: 0.8595 - val_loss: 0.3286 - val_accuracy: 0.8620\n",
      "Epoch 18/100\n",
      "600/600 [==============================] - 18s 31ms/step - loss: 0.3303 - accuracy: 0.8614 - val_loss: 0.3256 - val_accuracy: 0.8643\n",
      "Epoch 19/100\n",
      "600/600 [==============================] - 18s 31ms/step - loss: 0.3272 - accuracy: 0.8633 - val_loss: 0.3224 - val_accuracy: 0.8646\n",
      "Epoch 20/100\n",
      "600/600 [==============================] - 18s 31ms/step - loss: 0.3242 - accuracy: 0.8647 - val_loss: 0.3184 - val_accuracy: 0.8669\n",
      "Epoch 21/100\n",
      "600/600 [==============================] - 18s 31ms/step - loss: 0.3217 - accuracy: 0.8659 - val_loss: 0.3158 - val_accuracy: 0.8683\n",
      "Epoch 22/100\n",
      "600/600 [==============================] - 18s 31ms/step - loss: 0.3193 - accuracy: 0.8670 - val_loss: 0.3148 - val_accuracy: 0.8686\n",
      "Epoch 23/100\n",
      "600/600 [==============================] - 19s 31ms/step - loss: 0.3172 - accuracy: 0.8682 - val_loss: 0.3126 - val_accuracy: 0.8696\n",
      "Epoch 24/100\n",
      "600/600 [==============================] - 18s 31ms/step - loss: 0.3152 - accuracy: 0.8694 - val_loss: 0.3096 - val_accuracy: 0.8714\n",
      "Epoch 25/100\n",
      "600/600 [==============================] - 19s 31ms/step - loss: 0.3135 - accuracy: 0.8701 - val_loss: 0.3089 - val_accuracy: 0.8715\n",
      "Epoch 26/100\n",
      "600/600 [==============================] - 19s 31ms/step - loss: 0.3118 - accuracy: 0.8709 - val_loss: 0.3073 - val_accuracy: 0.8731\n",
      "Epoch 27/100\n",
      "600/600 [==============================] - 19s 31ms/step - loss: 0.3101 - accuracy: 0.8718 - val_loss: 0.3043 - val_accuracy: 0.8744\n",
      "Epoch 28/100\n",
      "600/600 [==============================] - 19s 31ms/step - loss: 0.3084 - accuracy: 0.8728 - val_loss: 0.3038 - val_accuracy: 0.8746\n",
      "Epoch 29/100\n",
      "600/600 [==============================] - 19s 31ms/step - loss: 0.3070 - accuracy: 0.8733 - val_loss: 0.3019 - val_accuracy: 0.8757\n",
      "Epoch 30/100\n",
      "600/600 [==============================] - 19s 31ms/step - loss: 0.3054 - accuracy: 0.8744 - val_loss: 0.3010 - val_accuracy: 0.8760\n",
      "Epoch 31/100\n",
      "600/600 [==============================] - 19s 31ms/step - loss: 0.3042 - accuracy: 0.8750 - val_loss: 0.3000 - val_accuracy: 0.8765\n",
      "Epoch 32/100\n",
      "600/600 [==============================] - 18s 31ms/step - loss: 0.3027 - accuracy: 0.8759 - val_loss: 0.2973 - val_accuracy: 0.8779\n",
      "Epoch 33/100\n",
      "600/600 [==============================] - 18s 31ms/step - loss: 0.3014 - accuracy: 0.8764 - val_loss: 0.2982 - val_accuracy: 0.8773\n",
      "Epoch 34/100\n",
      "600/600 [==============================] - 19s 31ms/step - loss: 0.3000 - accuracy: 0.8773 - val_loss: 0.2963 - val_accuracy: 0.8788\n",
      "Epoch 35/100\n",
      "600/600 [==============================] - 19s 31ms/step - loss: 0.2986 - accuracy: 0.8779 - val_loss: 0.2940 - val_accuracy: 0.8800\n",
      "Epoch 36/100\n",
      "600/600 [==============================] - 19s 31ms/step - loss: 0.2972 - accuracy: 0.8788 - val_loss: 0.2916 - val_accuracy: 0.8813\n",
      "Epoch 37/100\n",
      "600/600 [==============================] - 18s 31ms/step - loss: 0.2960 - accuracy: 0.8794 - val_loss: 0.2935 - val_accuracy: 0.8800\n",
      "Epoch 38/100\n",
      "600/600 [==============================] - 18s 30ms/step - loss: 0.2947 - accuracy: 0.8799 - val_loss: 0.2891 - val_accuracy: 0.8829\n",
      "Epoch 39/100\n",
      "600/600 [==============================] - 18s 31ms/step - loss: 0.2933 - accuracy: 0.8810 - val_loss: 0.2893 - val_accuracy: 0.8823\n",
      "Epoch 40/100\n",
      "600/600 [==============================] - 18s 31ms/step - loss: 0.2925 - accuracy: 0.8813 - val_loss: 0.2880 - val_accuracy: 0.8831\n",
      "Epoch 41/100\n",
      "600/600 [==============================] - 18s 31ms/step - loss: 0.2911 - accuracy: 0.8820 - val_loss: 0.2858 - val_accuracy: 0.8843\n",
      "Epoch 42/100\n",
      "600/600 [==============================] - 18s 30ms/step - loss: 0.2900 - accuracy: 0.8826 - val_loss: 0.2866 - val_accuracy: 0.8837\n",
      "Epoch 43/100\n",
      "600/600 [==============================] - 18s 30ms/step - loss: 0.2888 - accuracy: 0.8829 - val_loss: 0.2854 - val_accuracy: 0.8842\n",
      "Epoch 44/100\n",
      "600/600 [==============================] - 18s 30ms/step - loss: 0.2881 - accuracy: 0.8834 - val_loss: 0.2833 - val_accuracy: 0.8856\n",
      "Epoch 45/100\n",
      "600/600 [==============================] - 18s 31ms/step - loss: 0.2869 - accuracy: 0.8841 - val_loss: 0.2824 - val_accuracy: 0.8860\n",
      "Epoch 46/100\n",
      "600/600 [==============================] - 18s 30ms/step - loss: 0.2861 - accuracy: 0.8844 - val_loss: 0.2825 - val_accuracy: 0.8859\n",
      "Epoch 47/100\n",
      "600/600 [==============================] - 18s 30ms/step - loss: 0.2849 - accuracy: 0.8851 - val_loss: 0.2814 - val_accuracy: 0.8862\n",
      "Epoch 48/100\n",
      "600/600 [==============================] - 18s 30ms/step - loss: 0.2839 - accuracy: 0.8855 - val_loss: 0.2800 - val_accuracy: 0.8869\n",
      "Epoch 49/100\n",
      "600/600 [==============================] - 18s 30ms/step - loss: 0.2830 - accuracy: 0.8860 - val_loss: 0.2794 - val_accuracy: 0.8874\n",
      "Epoch 50/100\n",
      "600/600 [==============================] - 18s 30ms/step - loss: 0.2822 - accuracy: 0.8864 - val_loss: 0.2782 - val_accuracy: 0.8878\n",
      "Epoch 51/100\n",
      "600/600 [==============================] - 18s 30ms/step - loss: 0.2812 - accuracy: 0.8869 - val_loss: 0.2759 - val_accuracy: 0.8891\n",
      "Epoch 52/100\n",
      "600/600 [==============================] - 18s 30ms/step - loss: 0.2802 - accuracy: 0.8874 - val_loss: 0.2765 - val_accuracy: 0.8886\n",
      "Epoch 53/100\n",
      "600/600 [==============================] - 18s 30ms/step - loss: 0.2794 - accuracy: 0.8879 - val_loss: 0.2746 - val_accuracy: 0.8897\n",
      "Epoch 54/100\n",
      "600/600 [==============================] - 18s 30ms/step - loss: 0.2785 - accuracy: 0.8884 - val_loss: 0.2734 - val_accuracy: 0.8906\n",
      "Epoch 55/100\n",
      "600/600 [==============================] - 18s 31ms/step - loss: 0.2777 - accuracy: 0.8889 - val_loss: 0.2736 - val_accuracy: 0.8903\n",
      "Epoch 56/100\n",
      "600/600 [==============================] - 18s 30ms/step - loss: 0.2769 - accuracy: 0.8893 - val_loss: 0.2723 - val_accuracy: 0.8911\n",
      "Epoch 57/100\n",
      "600/600 [==============================] - 18s 30ms/step - loss: 0.2760 - accuracy: 0.8894 - val_loss: 0.2717 - val_accuracy: 0.8914\n",
      "Epoch 58/100\n",
      "600/600 [==============================] - 18s 30ms/step - loss: 0.2752 - accuracy: 0.8898 - val_loss: 0.2701 - val_accuracy: 0.8921\n",
      "Epoch 59/100\n",
      "600/600 [==============================] - 18s 31ms/step - loss: 0.2746 - accuracy: 0.8902 - val_loss: 0.2698 - val_accuracy: 0.8921\n",
      "Epoch 60/100\n",
      "600/600 [==============================] - 18s 31ms/step - loss: 0.2738 - accuracy: 0.8907 - val_loss: 0.2700 - val_accuracy: 0.8918\n",
      "Epoch 61/100\n",
      "600/600 [==============================] - 18s 31ms/step - loss: 0.2731 - accuracy: 0.8909 - val_loss: 0.2683 - val_accuracy: 0.8929\n",
      "Epoch 62/100\n",
      "600/600 [==============================] - 18s 31ms/step - loss: 0.2723 - accuracy: 0.8915 - val_loss: 0.2679 - val_accuracy: 0.8931\n",
      "Epoch 63/100\n",
      "600/600 [==============================] - 18s 31ms/step - loss: 0.2715 - accuracy: 0.8919 - val_loss: 0.2677 - val_accuracy: 0.8930\n",
      "Epoch 64/100\n",
      "600/600 [==============================] - 18s 31ms/step - loss: 0.2708 - accuracy: 0.8922 - val_loss: 0.2670 - val_accuracy: 0.8935\n",
      "Epoch 65/100\n",
      "600/600 [==============================] - 20s 34ms/step - loss: 0.2703 - accuracy: 0.8923 - val_loss: 0.2647 - val_accuracy: 0.8945\n",
      "Epoch 66/100\n",
      "600/600 [==============================] - 18s 30ms/step - loss: 0.2697 - accuracy: 0.8928 - val_loss: 0.2660 - val_accuracy: 0.8938\n",
      "Epoch 67/100\n",
      "600/600 [==============================] - 18s 30ms/step - loss: 0.2689 - accuracy: 0.8932 - val_loss: 0.2636 - val_accuracy: 0.8951\n",
      "Epoch 68/100\n",
      "600/600 [==============================] - 18s 31ms/step - loss: 0.2685 - accuracy: 0.8934 - val_loss: 0.2636 - val_accuracy: 0.8952\n",
      "Epoch 69/100\n",
      "600/600 [==============================] - 18s 31ms/step - loss: 0.2677 - accuracy: 0.8937 - val_loss: 0.2661 - val_accuracy: 0.8940\n",
      "Epoch 70/100\n",
      "600/600 [==============================] - 18s 30ms/step - loss: 0.2671 - accuracy: 0.8940 - val_loss: 0.2628 - val_accuracy: 0.8953\n",
      "Epoch 71/100\n",
      "600/600 [==============================] - 18s 31ms/step - loss: 0.2664 - accuracy: 0.8944 - val_loss: 0.2633 - val_accuracy: 0.8954\n",
      "Epoch 72/100\n",
      "600/600 [==============================] - 18s 31ms/step - loss: 0.2659 - accuracy: 0.8947 - val_loss: 0.2615 - val_accuracy: 0.8962\n",
      "Epoch 73/100\n",
      "600/600 [==============================] - 18s 31ms/step - loss: 0.2655 - accuracy: 0.8950 - val_loss: 0.2617 - val_accuracy: 0.8960\n",
      "Epoch 74/100\n",
      "600/600 [==============================] - 19s 31ms/step - loss: 0.2648 - accuracy: 0.8953 - val_loss: 0.2608 - val_accuracy: 0.8965\n",
      "Epoch 75/100\n",
      "600/600 [==============================] - 19s 31ms/step - loss: 0.2642 - accuracy: 0.8957 - val_loss: 0.2609 - val_accuracy: 0.8965\n",
      "Epoch 76/100\n",
      "600/600 [==============================] - 19s 31ms/step - loss: 0.2638 - accuracy: 0.8959 - val_loss: 0.2602 - val_accuracy: 0.8969\n",
      "Epoch 77/100\n",
      "600/600 [==============================] - 19s 31ms/step - loss: 0.2631 - accuracy: 0.8962 - val_loss: 0.2592 - val_accuracy: 0.8972\n",
      "Epoch 78/100\n",
      "600/600 [==============================] - 19s 31ms/step - loss: 0.2626 - accuracy: 0.8965 - val_loss: 0.2593 - val_accuracy: 0.8974\n",
      "Epoch 79/100\n",
      "600/600 [==============================] - 19s 31ms/step - loss: 0.2619 - accuracy: 0.8968 - val_loss: 0.2596 - val_accuracy: 0.8971\n",
      "Epoch 80/100\n",
      "600/600 [==============================] - 19s 31ms/step - loss: 0.2615 - accuracy: 0.8971 - val_loss: 0.2580 - val_accuracy: 0.8979\n",
      "Epoch 81/100\n",
      "600/600 [==============================] - 19s 31ms/step - loss: 0.2610 - accuracy: 0.8974 - val_loss: 0.2582 - val_accuracy: 0.8977\n",
      "Epoch 82/100\n",
      "600/600 [==============================] - 19s 31ms/step - loss: 0.2606 - accuracy: 0.8976 - val_loss: 0.2579 - val_accuracy: 0.8983\n",
      "Epoch 83/100\n",
      "600/600 [==============================] - 19s 31ms/step - loss: 0.2598 - accuracy: 0.8981 - val_loss: 0.2569 - val_accuracy: 0.8986\n",
      "Epoch 84/100\n",
      "600/600 [==============================] - 20s 34ms/step - loss: 0.2595 - accuracy: 0.8981 - val_loss: 0.2558 - val_accuracy: 0.8992\n",
      "Epoch 85/100\n",
      "600/600 [==============================] - 20s 33ms/step - loss: 0.2589 - accuracy: 0.8984 - val_loss: 0.2559 - val_accuracy: 0.8991\n",
      "Epoch 86/100\n",
      "600/600 [==============================] - 20s 34ms/step - loss: 0.2586 - accuracy: 0.8987 - val_loss: 0.2554 - val_accuracy: 0.8995\n",
      "Epoch 87/100\n",
      "600/600 [==============================] - 20s 34ms/step - loss: 0.2582 - accuracy: 0.8988 - val_loss: 0.2563 - val_accuracy: 0.8989\n",
      "Epoch 88/100\n",
      "600/600 [==============================] - 20s 33ms/step - loss: 0.2576 - accuracy: 0.8992 - val_loss: 0.2548 - val_accuracy: 0.8997\n",
      "Epoch 89/100\n",
      "600/600 [==============================] - 20s 33ms/step - loss: 0.2572 - accuracy: 0.8995 - val_loss: 0.2534 - val_accuracy: 0.9005\n",
      "Epoch 90/100\n",
      "600/600 [==============================] - 20s 33ms/step - loss: 0.2566 - accuracy: 0.8996 - val_loss: 0.2540 - val_accuracy: 0.9002\n",
      "Epoch 91/100\n",
      "600/600 [==============================] - 20s 33ms/step - loss: 0.2562 - accuracy: 0.8999 - val_loss: 0.2540 - val_accuracy: 0.9005\n",
      "Epoch 92/100\n",
      "600/600 [==============================] - 20s 33ms/step - loss: 0.2558 - accuracy: 0.9002 - val_loss: 0.2519 - val_accuracy: 0.9011\n",
      "Epoch 93/100\n",
      "600/600 [==============================] - 20s 34ms/step - loss: 0.2553 - accuracy: 0.9005 - val_loss: 0.2515 - val_accuracy: 0.9013\n",
      "Epoch 94/100\n",
      "600/600 [==============================] - 20s 33ms/step - loss: 0.2549 - accuracy: 0.9006 - val_loss: 0.2516 - val_accuracy: 0.9014\n",
      "Epoch 95/100\n",
      "600/600 [==============================] - 20s 33ms/step - loss: 0.2544 - accuracy: 0.9010 - val_loss: 0.2511 - val_accuracy: 0.9017\n",
      "Epoch 96/100\n",
      "600/600 [==============================] - 20s 33ms/step - loss: 0.2538 - accuracy: 0.9014 - val_loss: 0.2512 - val_accuracy: 0.9016\n",
      "Epoch 97/100\n",
      "600/600 [==============================] - 20s 33ms/step - loss: 0.2534 - accuracy: 0.9016 - val_loss: 0.2508 - val_accuracy: 0.9016\n",
      "Epoch 98/100\n",
      "600/600 [==============================] - 20s 33ms/step - loss: 0.2531 - accuracy: 0.9016 - val_loss: 0.2500 - val_accuracy: 0.9022\n",
      "Epoch 99/100\n",
      "600/600 [==============================] - 20s 34ms/step - loss: 0.2527 - accuracy: 0.9018 - val_loss: 0.2513 - val_accuracy: 0.9014\n",
      "Epoch 100/100\n",
      "600/600 [==============================] - 20s 33ms/step - loss: 0.2522 - accuracy: 0.9023 - val_loss: 0.2491 - val_accuracy: 0.9026\n"
     ]
    }
   ],
   "metadata": {}
  },
  {
   "cell_type": "markdown",
   "source": [
    "# plot loss and accuracy"
   ],
   "metadata": {}
  },
  {
   "cell_type": "code",
   "execution_count": 21,
   "source": [
    "plt.plot(cnn_lstm.history['loss'])\r\n",
    "plt.plot(cnn_lstm.history['val_loss'])\r\n",
    "plt.title('model loss')\r\n",
    "plt.ylabel('loss')\r\n",
    "plt.xlabel('epoch')\r\n",
    "plt.legend(['train', 'test'], loc='upper left')\r\n",
    "plt.show()"
   ],
   "outputs": [
    {
     "output_type": "display_data",
     "data": {
      "text/plain": [
       "<Figure size 432x288 with 1 Axes>"
      ],
      "image/svg+xml": "<?xml version=\"1.0\" encoding=\"utf-8\" standalone=\"no\"?>\r\n<!DOCTYPE svg PUBLIC \"-//W3C//DTD SVG 1.1//EN\"\r\n  \"http://www.w3.org/Graphics/SVG/1.1/DTD/svg11.dtd\">\r\n<!-- Created with matplotlib (https://matplotlib.org/) -->\r\n<svg height=\"277.314375pt\" version=\"1.1\" viewBox=\"0 0 385.78125 277.314375\" width=\"385.78125pt\" xmlns=\"http://www.w3.org/2000/svg\" xmlns:xlink=\"http://www.w3.org/1999/xlink\">\r\n <defs>\r\n  <style type=\"text/css\">\r\n*{stroke-linecap:butt;stroke-linejoin:round;}\r\n  </style>\r\n </defs>\r\n <g id=\"figure_1\">\r\n  <g id=\"patch_1\">\r\n   <path d=\"M 0 277.314375 \r\nL 385.78125 277.314375 \r\nL 385.78125 0 \r\nL 0 0 \r\nz\r\n\" style=\"fill:none;\"/>\r\n  </g>\r\n  <g id=\"axes_1\">\r\n   <g id=\"patch_2\">\r\n    <path d=\"M 43.78125 239.758125 \r\nL 378.58125 239.758125 \r\nL 378.58125 22.318125 \r\nL 43.78125 22.318125 \r\nz\r\n\" style=\"fill:#ffffff;\"/>\r\n   </g>\r\n   <g id=\"matplotlib.axis_1\">\r\n    <g id=\"xtick_1\">\r\n     <g id=\"line2d_1\">\r\n      <defs>\r\n       <path d=\"M 0 0 \r\nL 0 3.5 \r\n\" id=\"m05f5dac39f\" style=\"stroke:#000000;stroke-width:0.8;\"/>\r\n      </defs>\r\n      <g>\r\n       <use style=\"stroke:#000000;stroke-width:0.8;\" x=\"58.999432\" xlink:href=\"#m05f5dac39f\" y=\"239.758125\"/>\r\n      </g>\r\n     </g>\r\n     <g id=\"text_1\">\r\n      <!-- 0 -->\r\n      <defs>\r\n       <path d=\"M 31.78125 66.40625 \r\nQ 24.171875 66.40625 20.328125 58.90625 \r\nQ 16.5 51.421875 16.5 36.375 \r\nQ 16.5 21.390625 20.328125 13.890625 \r\nQ 24.171875 6.390625 31.78125 6.390625 \r\nQ 39.453125 6.390625 43.28125 13.890625 \r\nQ 47.125 21.390625 47.125 36.375 \r\nQ 47.125 51.421875 43.28125 58.90625 \r\nQ 39.453125 66.40625 31.78125 66.40625 \r\nz\r\nM 31.78125 74.21875 \r\nQ 44.046875 74.21875 50.515625 64.515625 \r\nQ 56.984375 54.828125 56.984375 36.375 \r\nQ 56.984375 17.96875 50.515625 8.265625 \r\nQ 44.046875 -1.421875 31.78125 -1.421875 \r\nQ 19.53125 -1.421875 13.0625 8.265625 \r\nQ 6.59375 17.96875 6.59375 36.375 \r\nQ 6.59375 54.828125 13.0625 64.515625 \r\nQ 19.53125 74.21875 31.78125 74.21875 \r\nz\r\n\" id=\"DejaVuSans-48\"/>\r\n      </defs>\r\n      <g transform=\"translate(55.818182 254.356562)scale(0.1 -0.1)\">\r\n       <use xlink:href=\"#DejaVuSans-48\"/>\r\n      </g>\r\n     </g>\r\n    </g>\r\n    <g id=\"xtick_2\">\r\n     <g id=\"line2d_2\">\r\n      <g>\r\n       <use style=\"stroke:#000000;stroke-width:0.8;\" x=\"120.487035\" xlink:href=\"#m05f5dac39f\" y=\"239.758125\"/>\r\n      </g>\r\n     </g>\r\n     <g id=\"text_2\">\r\n      <!-- 20 -->\r\n      <defs>\r\n       <path d=\"M 19.1875 8.296875 \r\nL 53.609375 8.296875 \r\nL 53.609375 0 \r\nL 7.328125 0 \r\nL 7.328125 8.296875 \r\nQ 12.9375 14.109375 22.625 23.890625 \r\nQ 32.328125 33.6875 34.8125 36.53125 \r\nQ 39.546875 41.84375 41.421875 45.53125 \r\nQ 43.3125 49.21875 43.3125 52.78125 \r\nQ 43.3125 58.59375 39.234375 62.25 \r\nQ 35.15625 65.921875 28.609375 65.921875 \r\nQ 23.96875 65.921875 18.8125 64.3125 \r\nQ 13.671875 62.703125 7.8125 59.421875 \r\nL 7.8125 69.390625 \r\nQ 13.765625 71.78125 18.9375 73 \r\nQ 24.125 74.21875 28.421875 74.21875 \r\nQ 39.75 74.21875 46.484375 68.546875 \r\nQ 53.21875 62.890625 53.21875 53.421875 \r\nQ 53.21875 48.921875 51.53125 44.890625 \r\nQ 49.859375 40.875 45.40625 35.40625 \r\nQ 44.1875 33.984375 37.640625 27.21875 \r\nQ 31.109375 20.453125 19.1875 8.296875 \r\nz\r\n\" id=\"DejaVuSans-50\"/>\r\n      </defs>\r\n      <g transform=\"translate(114.124535 254.356562)scale(0.1 -0.1)\">\r\n       <use xlink:href=\"#DejaVuSans-50\"/>\r\n       <use x=\"63.623047\" xlink:href=\"#DejaVuSans-48\"/>\r\n      </g>\r\n     </g>\r\n    </g>\r\n    <g id=\"xtick_3\">\r\n     <g id=\"line2d_3\">\r\n      <g>\r\n       <use style=\"stroke:#000000;stroke-width:0.8;\" x=\"181.974638\" xlink:href=\"#m05f5dac39f\" y=\"239.758125\"/>\r\n      </g>\r\n     </g>\r\n     <g id=\"text_3\">\r\n      <!-- 40 -->\r\n      <defs>\r\n       <path d=\"M 37.796875 64.3125 \r\nL 12.890625 25.390625 \r\nL 37.796875 25.390625 \r\nz\r\nM 35.203125 72.90625 \r\nL 47.609375 72.90625 \r\nL 47.609375 25.390625 \r\nL 58.015625 25.390625 \r\nL 58.015625 17.1875 \r\nL 47.609375 17.1875 \r\nL 47.609375 0 \r\nL 37.796875 0 \r\nL 37.796875 17.1875 \r\nL 4.890625 17.1875 \r\nL 4.890625 26.703125 \r\nz\r\n\" id=\"DejaVuSans-52\"/>\r\n      </defs>\r\n      <g transform=\"translate(175.612138 254.356562)scale(0.1 -0.1)\">\r\n       <use xlink:href=\"#DejaVuSans-52\"/>\r\n       <use x=\"63.623047\" xlink:href=\"#DejaVuSans-48\"/>\r\n      </g>\r\n     </g>\r\n    </g>\r\n    <g id=\"xtick_4\">\r\n     <g id=\"line2d_4\">\r\n      <g>\r\n       <use style=\"stroke:#000000;stroke-width:0.8;\" x=\"243.462242\" xlink:href=\"#m05f5dac39f\" y=\"239.758125\"/>\r\n      </g>\r\n     </g>\r\n     <g id=\"text_4\">\r\n      <!-- 60 -->\r\n      <defs>\r\n       <path d=\"M 33.015625 40.375 \r\nQ 26.375 40.375 22.484375 35.828125 \r\nQ 18.609375 31.296875 18.609375 23.390625 \r\nQ 18.609375 15.53125 22.484375 10.953125 \r\nQ 26.375 6.390625 33.015625 6.390625 \r\nQ 39.65625 6.390625 43.53125 10.953125 \r\nQ 47.40625 15.53125 47.40625 23.390625 \r\nQ 47.40625 31.296875 43.53125 35.828125 \r\nQ 39.65625 40.375 33.015625 40.375 \r\nz\r\nM 52.59375 71.296875 \r\nL 52.59375 62.3125 \r\nQ 48.875 64.0625 45.09375 64.984375 \r\nQ 41.3125 65.921875 37.59375 65.921875 \r\nQ 27.828125 65.921875 22.671875 59.328125 \r\nQ 17.53125 52.734375 16.796875 39.40625 \r\nQ 19.671875 43.65625 24.015625 45.921875 \r\nQ 28.375 48.1875 33.59375 48.1875 \r\nQ 44.578125 48.1875 50.953125 41.515625 \r\nQ 57.328125 34.859375 57.328125 23.390625 \r\nQ 57.328125 12.15625 50.6875 5.359375 \r\nQ 44.046875 -1.421875 33.015625 -1.421875 \r\nQ 20.359375 -1.421875 13.671875 8.265625 \r\nQ 6.984375 17.96875 6.984375 36.375 \r\nQ 6.984375 53.65625 15.1875 63.9375 \r\nQ 23.390625 74.21875 37.203125 74.21875 \r\nQ 40.921875 74.21875 44.703125 73.484375 \r\nQ 48.484375 72.75 52.59375 71.296875 \r\nz\r\n\" id=\"DejaVuSans-54\"/>\r\n      </defs>\r\n      <g transform=\"translate(237.099742 254.356562)scale(0.1 -0.1)\">\r\n       <use xlink:href=\"#DejaVuSans-54\"/>\r\n       <use x=\"63.623047\" xlink:href=\"#DejaVuSans-48\"/>\r\n      </g>\r\n     </g>\r\n    </g>\r\n    <g id=\"xtick_5\">\r\n     <g id=\"line2d_5\">\r\n      <g>\r\n       <use style=\"stroke:#000000;stroke-width:0.8;\" x=\"304.949845\" xlink:href=\"#m05f5dac39f\" y=\"239.758125\"/>\r\n      </g>\r\n     </g>\r\n     <g id=\"text_5\">\r\n      <!-- 80 -->\r\n      <defs>\r\n       <path d=\"M 31.78125 34.625 \r\nQ 24.75 34.625 20.71875 30.859375 \r\nQ 16.703125 27.09375 16.703125 20.515625 \r\nQ 16.703125 13.921875 20.71875 10.15625 \r\nQ 24.75 6.390625 31.78125 6.390625 \r\nQ 38.8125 6.390625 42.859375 10.171875 \r\nQ 46.921875 13.96875 46.921875 20.515625 \r\nQ 46.921875 27.09375 42.890625 30.859375 \r\nQ 38.875 34.625 31.78125 34.625 \r\nz\r\nM 21.921875 38.8125 \r\nQ 15.578125 40.375 12.03125 44.71875 \r\nQ 8.5 49.078125 8.5 55.328125 \r\nQ 8.5 64.0625 14.71875 69.140625 \r\nQ 20.953125 74.21875 31.78125 74.21875 \r\nQ 42.671875 74.21875 48.875 69.140625 \r\nQ 55.078125 64.0625 55.078125 55.328125 \r\nQ 55.078125 49.078125 51.53125 44.71875 \r\nQ 48 40.375 41.703125 38.8125 \r\nQ 48.828125 37.15625 52.796875 32.3125 \r\nQ 56.78125 27.484375 56.78125 20.515625 \r\nQ 56.78125 9.90625 50.3125 4.234375 \r\nQ 43.84375 -1.421875 31.78125 -1.421875 \r\nQ 19.734375 -1.421875 13.25 4.234375 \r\nQ 6.78125 9.90625 6.78125 20.515625 \r\nQ 6.78125 27.484375 10.78125 32.3125 \r\nQ 14.796875 37.15625 21.921875 38.8125 \r\nz\r\nM 18.3125 54.390625 \r\nQ 18.3125 48.734375 21.84375 45.5625 \r\nQ 25.390625 42.390625 31.78125 42.390625 \r\nQ 38.140625 42.390625 41.71875 45.5625 \r\nQ 45.3125 48.734375 45.3125 54.390625 \r\nQ 45.3125 60.0625 41.71875 63.234375 \r\nQ 38.140625 66.40625 31.78125 66.40625 \r\nQ 25.390625 66.40625 21.84375 63.234375 \r\nQ 18.3125 60.0625 18.3125 54.390625 \r\nz\r\n\" id=\"DejaVuSans-56\"/>\r\n      </defs>\r\n      <g transform=\"translate(298.587345 254.356562)scale(0.1 -0.1)\">\r\n       <use xlink:href=\"#DejaVuSans-56\"/>\r\n       <use x=\"63.623047\" xlink:href=\"#DejaVuSans-48\"/>\r\n      </g>\r\n     </g>\r\n    </g>\r\n    <g id=\"xtick_6\">\r\n     <g id=\"line2d_6\">\r\n      <g>\r\n       <use style=\"stroke:#000000;stroke-width:0.8;\" x=\"366.437448\" xlink:href=\"#m05f5dac39f\" y=\"239.758125\"/>\r\n      </g>\r\n     </g>\r\n     <g id=\"text_6\">\r\n      <!-- 100 -->\r\n      <defs>\r\n       <path d=\"M 12.40625 8.296875 \r\nL 28.515625 8.296875 \r\nL 28.515625 63.921875 \r\nL 10.984375 60.40625 \r\nL 10.984375 69.390625 \r\nL 28.421875 72.90625 \r\nL 38.28125 72.90625 \r\nL 38.28125 8.296875 \r\nL 54.390625 8.296875 \r\nL 54.390625 0 \r\nL 12.40625 0 \r\nz\r\n\" id=\"DejaVuSans-49\"/>\r\n      </defs>\r\n      <g transform=\"translate(356.893698 254.356562)scale(0.1 -0.1)\">\r\n       <use xlink:href=\"#DejaVuSans-49\"/>\r\n       <use x=\"63.623047\" xlink:href=\"#DejaVuSans-48\"/>\r\n       <use x=\"127.246094\" xlink:href=\"#DejaVuSans-48\"/>\r\n      </g>\r\n     </g>\r\n    </g>\r\n    <g id=\"text_7\">\r\n     <!-- epoch -->\r\n     <defs>\r\n      <path d=\"M 56.203125 29.59375 \r\nL 56.203125 25.203125 \r\nL 14.890625 25.203125 \r\nQ 15.484375 15.921875 20.484375 11.0625 \r\nQ 25.484375 6.203125 34.421875 6.203125 \r\nQ 39.59375 6.203125 44.453125 7.46875 \r\nQ 49.3125 8.734375 54.109375 11.28125 \r\nL 54.109375 2.78125 \r\nQ 49.265625 0.734375 44.1875 -0.34375 \r\nQ 39.109375 -1.421875 33.890625 -1.421875 \r\nQ 20.796875 -1.421875 13.15625 6.1875 \r\nQ 5.515625 13.8125 5.515625 26.8125 \r\nQ 5.515625 40.234375 12.765625 48.109375 \r\nQ 20.015625 56 32.328125 56 \r\nQ 43.359375 56 49.78125 48.890625 \r\nQ 56.203125 41.796875 56.203125 29.59375 \r\nz\r\nM 47.21875 32.234375 \r\nQ 47.125 39.59375 43.09375 43.984375 \r\nQ 39.0625 48.390625 32.421875 48.390625 \r\nQ 24.90625 48.390625 20.390625 44.140625 \r\nQ 15.875 39.890625 15.1875 32.171875 \r\nz\r\n\" id=\"DejaVuSans-101\"/>\r\n      <path d=\"M 18.109375 8.203125 \r\nL 18.109375 -20.796875 \r\nL 9.078125 -20.796875 \r\nL 9.078125 54.6875 \r\nL 18.109375 54.6875 \r\nL 18.109375 46.390625 \r\nQ 20.953125 51.265625 25.265625 53.625 \r\nQ 29.59375 56 35.59375 56 \r\nQ 45.5625 56 51.78125 48.09375 \r\nQ 58.015625 40.1875 58.015625 27.296875 \r\nQ 58.015625 14.40625 51.78125 6.484375 \r\nQ 45.5625 -1.421875 35.59375 -1.421875 \r\nQ 29.59375 -1.421875 25.265625 0.953125 \r\nQ 20.953125 3.328125 18.109375 8.203125 \r\nz\r\nM 48.6875 27.296875 \r\nQ 48.6875 37.203125 44.609375 42.84375 \r\nQ 40.53125 48.484375 33.40625 48.484375 \r\nQ 26.265625 48.484375 22.1875 42.84375 \r\nQ 18.109375 37.203125 18.109375 27.296875 \r\nQ 18.109375 17.390625 22.1875 11.75 \r\nQ 26.265625 6.109375 33.40625 6.109375 \r\nQ 40.53125 6.109375 44.609375 11.75 \r\nQ 48.6875 17.390625 48.6875 27.296875 \r\nz\r\n\" id=\"DejaVuSans-112\"/>\r\n      <path d=\"M 30.609375 48.390625 \r\nQ 23.390625 48.390625 19.1875 42.75 \r\nQ 14.984375 37.109375 14.984375 27.296875 \r\nQ 14.984375 17.484375 19.15625 11.84375 \r\nQ 23.34375 6.203125 30.609375 6.203125 \r\nQ 37.796875 6.203125 41.984375 11.859375 \r\nQ 46.1875 17.53125 46.1875 27.296875 \r\nQ 46.1875 37.015625 41.984375 42.703125 \r\nQ 37.796875 48.390625 30.609375 48.390625 \r\nz\r\nM 30.609375 56 \r\nQ 42.328125 56 49.015625 48.375 \r\nQ 55.71875 40.765625 55.71875 27.296875 \r\nQ 55.71875 13.875 49.015625 6.21875 \r\nQ 42.328125 -1.421875 30.609375 -1.421875 \r\nQ 18.84375 -1.421875 12.171875 6.21875 \r\nQ 5.515625 13.875 5.515625 27.296875 \r\nQ 5.515625 40.765625 12.171875 48.375 \r\nQ 18.84375 56 30.609375 56 \r\nz\r\n\" id=\"DejaVuSans-111\"/>\r\n      <path d=\"M 48.78125 52.59375 \r\nL 48.78125 44.1875 \r\nQ 44.96875 46.296875 41.140625 47.34375 \r\nQ 37.3125 48.390625 33.40625 48.390625 \r\nQ 24.65625 48.390625 19.8125 42.84375 \r\nQ 14.984375 37.3125 14.984375 27.296875 \r\nQ 14.984375 17.28125 19.8125 11.734375 \r\nQ 24.65625 6.203125 33.40625 6.203125 \r\nQ 37.3125 6.203125 41.140625 7.25 \r\nQ 44.96875 8.296875 48.78125 10.40625 \r\nL 48.78125 2.09375 \r\nQ 45.015625 0.34375 40.984375 -0.53125 \r\nQ 36.96875 -1.421875 32.421875 -1.421875 \r\nQ 20.0625 -1.421875 12.78125 6.34375 \r\nQ 5.515625 14.109375 5.515625 27.296875 \r\nQ 5.515625 40.671875 12.859375 48.328125 \r\nQ 20.21875 56 33.015625 56 \r\nQ 37.15625 56 41.109375 55.140625 \r\nQ 45.0625 54.296875 48.78125 52.59375 \r\nz\r\n\" id=\"DejaVuSans-99\"/>\r\n      <path d=\"M 54.890625 33.015625 \r\nL 54.890625 0 \r\nL 45.90625 0 \r\nL 45.90625 32.71875 \r\nQ 45.90625 40.484375 42.875 44.328125 \r\nQ 39.84375 48.1875 33.796875 48.1875 \r\nQ 26.515625 48.1875 22.3125 43.546875 \r\nQ 18.109375 38.921875 18.109375 30.90625 \r\nL 18.109375 0 \r\nL 9.078125 0 \r\nL 9.078125 75.984375 \r\nL 18.109375 75.984375 \r\nL 18.109375 46.1875 \r\nQ 21.34375 51.125 25.703125 53.5625 \r\nQ 30.078125 56 35.796875 56 \r\nQ 45.21875 56 50.046875 50.171875 \r\nQ 54.890625 44.34375 54.890625 33.015625 \r\nz\r\n\" id=\"DejaVuSans-104\"/>\r\n     </defs>\r\n     <g transform=\"translate(195.953125 268.034687)scale(0.1 -0.1)\">\r\n      <use xlink:href=\"#DejaVuSans-101\"/>\r\n      <use x=\"61.523438\" xlink:href=\"#DejaVuSans-112\"/>\r\n      <use x=\"125\" xlink:href=\"#DejaVuSans-111\"/>\r\n      <use x=\"186.181641\" xlink:href=\"#DejaVuSans-99\"/>\r\n      <use x=\"241.162109\" xlink:href=\"#DejaVuSans-104\"/>\r\n     </g>\r\n    </g>\r\n   </g>\r\n   <g id=\"matplotlib.axis_2\">\r\n    <g id=\"ytick_1\">\r\n     <g id=\"line2d_7\">\r\n      <defs>\r\n       <path d=\"M 0 0 \r\nL -3.5 0 \r\n\" id=\"mbaa3712ab1\" style=\"stroke:#000000;stroke-width:0.8;\"/>\r\n      </defs>\r\n      <g>\r\n       <use style=\"stroke:#000000;stroke-width:0.8;\" x=\"43.78125\" xlink:href=\"#mbaa3712ab1\" y=\"236.123723\"/>\r\n      </g>\r\n     </g>\r\n     <g id=\"text_8\">\r\n      <!-- 0.2 -->\r\n      <defs>\r\n       <path d=\"M 10.6875 12.40625 \r\nL 21 12.40625 \r\nL 21 0 \r\nL 10.6875 0 \r\nz\r\n\" id=\"DejaVuSans-46\"/>\r\n      </defs>\r\n      <g transform=\"translate(20.878125 239.922941)scale(0.1 -0.1)\">\r\n       <use xlink:href=\"#DejaVuSans-48\"/>\r\n       <use x=\"63.623047\" xlink:href=\"#DejaVuSans-46\"/>\r\n       <use x=\"95.410156\" xlink:href=\"#DejaVuSans-50\"/>\r\n      </g>\r\n     </g>\r\n    </g>\r\n    <g id=\"ytick_2\">\r\n     <g id=\"line2d_8\">\r\n      <g>\r\n       <use style=\"stroke:#000000;stroke-width:0.8;\" x=\"43.78125\" xlink:href=\"#mbaa3712ab1\" y=\"210.685548\"/>\r\n      </g>\r\n     </g>\r\n     <g id=\"text_9\">\r\n      <!-- 0.4 -->\r\n      <g transform=\"translate(20.878125 214.484767)scale(0.1 -0.1)\">\r\n       <use xlink:href=\"#DejaVuSans-48\"/>\r\n       <use x=\"63.623047\" xlink:href=\"#DejaVuSans-46\"/>\r\n       <use x=\"95.410156\" xlink:href=\"#DejaVuSans-52\"/>\r\n      </g>\r\n     </g>\r\n    </g>\r\n    <g id=\"ytick_3\">\r\n     <g id=\"line2d_9\">\r\n      <g>\r\n       <use style=\"stroke:#000000;stroke-width:0.8;\" x=\"43.78125\" xlink:href=\"#mbaa3712ab1\" y=\"185.247373\"/>\r\n      </g>\r\n     </g>\r\n     <g id=\"text_10\">\r\n      <!-- 0.6 -->\r\n      <g transform=\"translate(20.878125 189.046592)scale(0.1 -0.1)\">\r\n       <use xlink:href=\"#DejaVuSans-48\"/>\r\n       <use x=\"63.623047\" xlink:href=\"#DejaVuSans-46\"/>\r\n       <use x=\"95.410156\" xlink:href=\"#DejaVuSans-54\"/>\r\n      </g>\r\n     </g>\r\n    </g>\r\n    <g id=\"ytick_4\">\r\n     <g id=\"line2d_10\">\r\n      <g>\r\n       <use style=\"stroke:#000000;stroke-width:0.8;\" x=\"43.78125\" xlink:href=\"#mbaa3712ab1\" y=\"159.809199\"/>\r\n      </g>\r\n     </g>\r\n     <g id=\"text_11\">\r\n      <!-- 0.8 -->\r\n      <g transform=\"translate(20.878125 163.608417)scale(0.1 -0.1)\">\r\n       <use xlink:href=\"#DejaVuSans-48\"/>\r\n       <use x=\"63.623047\" xlink:href=\"#DejaVuSans-46\"/>\r\n       <use x=\"95.410156\" xlink:href=\"#DejaVuSans-56\"/>\r\n      </g>\r\n     </g>\r\n    </g>\r\n    <g id=\"ytick_5\">\r\n     <g id=\"line2d_11\">\r\n      <g>\r\n       <use style=\"stroke:#000000;stroke-width:0.8;\" x=\"43.78125\" xlink:href=\"#mbaa3712ab1\" y=\"134.371024\"/>\r\n      </g>\r\n     </g>\r\n     <g id=\"text_12\">\r\n      <!-- 1.0 -->\r\n      <g transform=\"translate(20.878125 138.170243)scale(0.1 -0.1)\">\r\n       <use xlink:href=\"#DejaVuSans-49\"/>\r\n       <use x=\"63.623047\" xlink:href=\"#DejaVuSans-46\"/>\r\n       <use x=\"95.410156\" xlink:href=\"#DejaVuSans-48\"/>\r\n      </g>\r\n     </g>\r\n    </g>\r\n    <g id=\"ytick_6\">\r\n     <g id=\"line2d_12\">\r\n      <g>\r\n       <use style=\"stroke:#000000;stroke-width:0.8;\" x=\"43.78125\" xlink:href=\"#mbaa3712ab1\" y=\"108.932849\"/>\r\n      </g>\r\n     </g>\r\n     <g id=\"text_13\">\r\n      <!-- 1.2 -->\r\n      <g transform=\"translate(20.878125 112.732068)scale(0.1 -0.1)\">\r\n       <use xlink:href=\"#DejaVuSans-49\"/>\r\n       <use x=\"63.623047\" xlink:href=\"#DejaVuSans-46\"/>\r\n       <use x=\"95.410156\" xlink:href=\"#DejaVuSans-50\"/>\r\n      </g>\r\n     </g>\r\n    </g>\r\n    <g id=\"ytick_7\">\r\n     <g id=\"line2d_13\">\r\n      <g>\r\n       <use style=\"stroke:#000000;stroke-width:0.8;\" x=\"43.78125\" xlink:href=\"#mbaa3712ab1\" y=\"83.494675\"/>\r\n      </g>\r\n     </g>\r\n     <g id=\"text_14\">\r\n      <!-- 1.4 -->\r\n      <g transform=\"translate(20.878125 87.293893)scale(0.1 -0.1)\">\r\n       <use xlink:href=\"#DejaVuSans-49\"/>\r\n       <use x=\"63.623047\" xlink:href=\"#DejaVuSans-46\"/>\r\n       <use x=\"95.410156\" xlink:href=\"#DejaVuSans-52\"/>\r\n      </g>\r\n     </g>\r\n    </g>\r\n    <g id=\"ytick_8\">\r\n     <g id=\"line2d_14\">\r\n      <g>\r\n       <use style=\"stroke:#000000;stroke-width:0.8;\" x=\"43.78125\" xlink:href=\"#mbaa3712ab1\" y=\"58.0565\"/>\r\n      </g>\r\n     </g>\r\n     <g id=\"text_15\">\r\n      <!-- 1.6 -->\r\n      <g transform=\"translate(20.878125 61.855719)scale(0.1 -0.1)\">\r\n       <use xlink:href=\"#DejaVuSans-49\"/>\r\n       <use x=\"63.623047\" xlink:href=\"#DejaVuSans-46\"/>\r\n       <use x=\"95.410156\" xlink:href=\"#DejaVuSans-54\"/>\r\n      </g>\r\n     </g>\r\n    </g>\r\n    <g id=\"ytick_9\">\r\n     <g id=\"line2d_15\">\r\n      <g>\r\n       <use style=\"stroke:#000000;stroke-width:0.8;\" x=\"43.78125\" xlink:href=\"#mbaa3712ab1\" y=\"32.618325\"/>\r\n      </g>\r\n     </g>\r\n     <g id=\"text_16\">\r\n      <!-- 1.8 -->\r\n      <g transform=\"translate(20.878125 36.417544)scale(0.1 -0.1)\">\r\n       <use xlink:href=\"#DejaVuSans-49\"/>\r\n       <use x=\"63.623047\" xlink:href=\"#DejaVuSans-46\"/>\r\n       <use x=\"95.410156\" xlink:href=\"#DejaVuSans-56\"/>\r\n      </g>\r\n     </g>\r\n    </g>\r\n    <g id=\"text_17\">\r\n     <!-- loss -->\r\n     <defs>\r\n      <path d=\"M 9.421875 75.984375 \r\nL 18.40625 75.984375 \r\nL 18.40625 0 \r\nL 9.421875 0 \r\nz\r\n\" id=\"DejaVuSans-108\"/>\r\n      <path d=\"M 44.28125 53.078125 \r\nL 44.28125 44.578125 \r\nQ 40.484375 46.53125 36.375 47.5 \r\nQ 32.28125 48.484375 27.875 48.484375 \r\nQ 21.1875 48.484375 17.84375 46.4375 \r\nQ 14.5 44.390625 14.5 40.28125 \r\nQ 14.5 37.15625 16.890625 35.375 \r\nQ 19.28125 33.59375 26.515625 31.984375 \r\nL 29.59375 31.296875 \r\nQ 39.15625 29.25 43.1875 25.515625 \r\nQ 47.21875 21.78125 47.21875 15.09375 \r\nQ 47.21875 7.46875 41.1875 3.015625 \r\nQ 35.15625 -1.421875 24.609375 -1.421875 \r\nQ 20.21875 -1.421875 15.453125 -0.5625 \r\nQ 10.6875 0.296875 5.421875 2 \r\nL 5.421875 11.28125 \r\nQ 10.40625 8.6875 15.234375 7.390625 \r\nQ 20.0625 6.109375 24.8125 6.109375 \r\nQ 31.15625 6.109375 34.5625 8.28125 \r\nQ 37.984375 10.453125 37.984375 14.40625 \r\nQ 37.984375 18.0625 35.515625 20.015625 \r\nQ 33.0625 21.96875 24.703125 23.78125 \r\nL 21.578125 24.515625 \r\nQ 13.234375 26.265625 9.515625 29.90625 \r\nQ 5.8125 33.546875 5.8125 39.890625 \r\nQ 5.8125 47.609375 11.28125 51.796875 \r\nQ 16.75 56 26.8125 56 \r\nQ 31.78125 56 36.171875 55.265625 \r\nQ 40.578125 54.546875 44.28125 53.078125 \r\nz\r\n\" id=\"DejaVuSans-115\"/>\r\n     </defs>\r\n     <g transform=\"translate(14.798438 140.695937)rotate(-90)scale(0.1 -0.1)\">\r\n      <use xlink:href=\"#DejaVuSans-108\"/>\r\n      <use x=\"27.783203\" xlink:href=\"#DejaVuSans-111\"/>\r\n      <use x=\"88.964844\" xlink:href=\"#DejaVuSans-115\"/>\r\n      <use x=\"141.064453\" xlink:href=\"#DejaVuSans-115\"/>\r\n     </g>\r\n    </g>\r\n   </g>\r\n   <g id=\"line2d_16\">\r\n    <path clip-path=\"url(#p0ee634222b)\" d=\"M 58.999432 32.201761 \r\nL 62.073812 114.473433 \r\nL 65.148192 152.791288 \r\nL 68.222572 189.654917 \r\nL 71.296952 202.248349 \r\nL 74.371333 208.022833 \r\nL 77.445713 210.999294 \r\nL 80.520093 212.712319 \r\nL 83.594473 213.838316 \r\nL 86.668853 214.69393 \r\nL 89.743233 215.440819 \r\nL 92.817614 216.13658 \r\nL 95.891994 216.785475 \r\nL 98.966374 217.425902 \r\nL 102.040754 218.06341 \r\nL 105.115134 218.617847 \r\nL 108.189514 219.107829 \r\nL 111.263895 219.545535 \r\nL 114.338275 219.945814 \r\nL 117.412655 220.327563 \r\nL 120.487035 220.649137 \r\nL 123.561415 220.946152 \r\nL 126.635795 221.22327 \r\nL 129.710176 221.466315 \r\nL 132.784556 221.689224 \r\nL 135.858936 221.905538 \r\nL 138.933316 222.116241 \r\nL 142.007696 222.336766 \r\nL 145.082076 222.512986 \r\nL 148.156457 222.718565 \r\nL 151.230837 222.876746 \r\nL 154.305217 223.062412 \r\nL 157.379597 223.225642 \r\nL 160.453977 223.406821 \r\nL 163.528357 223.5832 \r\nL 166.602738 223.754846 \r\nL 169.677118 223.908524 \r\nL 172.751498 224.073531 \r\nL 175.825878 224.25322 \r\nL 178.900258 224.364838 \r\nL 181.974638 224.541164 \r\nL 185.049019 224.673892 \r\nL 188.123399 224.823548 \r\nL 191.197779 224.91791 \r\nL 194.272159 225.07086 \r\nL 197.346539 225.173725 \r\nL 200.420919 225.319504 \r\nL 203.4953 225.449043 \r\nL 206.56968 225.569371 \r\nL 209.64406 225.674977 \r\nL 212.71844 225.796799 \r\nL 215.79282 225.925463 \r\nL 218.8672 226.026971 \r\nL 221.941581 226.137296 \r\nL 225.015961 226.244319 \r\nL 228.090341 226.336771 \r\nL 231.164721 226.459791 \r\nL 234.239101 226.553657 \r\nL 237.313481 226.638911 \r\nL 240.387862 226.734688 \r\nL 243.462242 226.829926 \r\nL 246.536622 226.924751 \r\nL 249.611002 227.029091 \r\nL 252.685382 227.113496 \r\nL 255.759762 227.186669 \r\nL 258.834143 227.258573 \r\nL 261.908523 227.35684 \r\nL 264.982903 227.416735 \r\nL 268.057283 227.514358 \r\nL 271.131663 227.583013 \r\nL 274.206043 227.675071 \r\nL 277.280424 227.737138 \r\nL 280.354804 227.798955 \r\nL 283.429184 227.882848 \r\nL 286.503564 227.961097 \r\nL 289.577944 228.013498 \r\nL 292.652324 228.101773 \r\nL 295.726705 228.166293 \r\nL 298.801085 228.251376 \r\nL 301.875465 228.299122 \r\nL 304.949845 228.365044 \r\nL 308.024225 228.41986 \r\nL 311.098605 228.522494 \r\nL 314.172986 228.551442 \r\nL 317.247366 228.627512 \r\nL 320.321746 228.673298 \r\nL 323.396126 228.726886 \r\nL 326.470506 228.800268 \r\nL 329.544886 228.854223 \r\nL 332.619267 228.92472 \r\nL 335.693647 228.977743 \r\nL 338.768027 229.023165 \r\nL 341.842407 229.095482 \r\nL 344.916787 229.143839 \r\nL 347.991167 229.199386 \r\nL 351.065548 229.281122 \r\nL 354.139928 229.335453 \r\nL 357.214308 229.371035 \r\nL 360.288688 229.422636 \r\nL 363.363068 229.484047 \r\n\" style=\"fill:none;stroke:#1f77b4;stroke-linecap:square;stroke-width:1.5;\"/>\r\n   </g>\r\n   <g id=\"line2d_17\">\r\n    <path clip-path=\"url(#p0ee634222b)\" d=\"M 58.999432 98.83012 \r\nL 62.073812 130.834773 \r\nL 65.148192 178.217559 \r\nL 68.222572 197.857201 \r\nL 71.296952 205.880755 \r\nL 74.371333 209.991101 \r\nL 77.445713 212.185109 \r\nL 80.520093 213.589388 \r\nL 83.594473 214.57563 \r\nL 86.668853 215.426688 \r\nL 89.743233 216.133176 \r\nL 92.817614 216.865949 \r\nL 95.891994 217.352922 \r\nL 98.966374 218.123354 \r\nL 102.040754 218.673296 \r\nL 105.115134 219.474993 \r\nL 108.189514 219.767766 \r\nL 111.263895 220.145338 \r\nL 114.338275 220.560972 \r\nL 117.412655 221.05893 \r\nL 120.487035 221.399442 \r\nL 123.561415 221.522408 \r\nL 126.635795 221.798704 \r\nL 129.710176 222.188046 \r\nL 132.784556 222.267887 \r\nL 135.858936 222.476149 \r\nL 138.933316 222.861576 \r\nL 142.007696 222.91823 \r\nL 145.082076 223.160221 \r\nL 148.156457 223.279154 \r\nL 151.230837 223.402431 \r\nL 154.305217 223.742018 \r\nL 157.379597 223.636955 \r\nL 160.453977 223.871289 \r\nL 163.528357 224.165423 \r\nL 166.602738 224.46718 \r\nL 169.677118 224.225704 \r\nL 172.751498 224.791453 \r\nL 175.825878 224.76272 \r\nL 178.900258 224.925696 \r\nL 181.974638 225.215972 \r\nL 185.049019 225.106439 \r\nL 188.123399 225.257096 \r\nL 191.197779 225.533782 \r\nL 194.272159 225.648466 \r\nL 197.346539 225.632981 \r\nL 200.420919 225.769253 \r\nL 203.4953 225.947766 \r\nL 206.56968 226.027604 \r\nL 209.64406 226.179094 \r\nL 212.71844 226.475814 \r\nL 215.79282 226.399339 \r\nL 218.8672 226.63122 \r\nL 221.941581 226.793631 \r\nL 225.015961 226.757064 \r\nL 228.090341 226.925483 \r\nL 231.164721 227.005586 \r\nL 234.239101 227.206509 \r\nL 237.313481 227.251363 \r\nL 240.387862 227.22058 \r\nL 243.462242 227.435051 \r\nL 246.536622 227.487922 \r\nL 249.611002 227.512326 \r\nL 252.685382 227.600294 \r\nL 255.759762 227.896032 \r\nL 258.834143 227.727135 \r\nL 261.908523 228.036662 \r\nL 264.982903 228.03391 \r\nL 268.057283 227.715369 \r\nL 271.131663 228.135657 \r\nL 274.206043 228.076073 \r\nL 277.280424 228.297193 \r\nL 280.354804 228.280882 \r\nL 283.429184 228.386484 \r\nL 286.503564 228.378459 \r\nL 289.577944 228.467905 \r\nL 292.652324 228.591077 \r\nL 295.726705 228.576256 \r\nL 298.801085 228.545647 \r\nL 301.875465 228.747886 \r\nL 304.949845 228.721996 \r\nL 308.024225 228.764462 \r\nL 311.098605 228.882845 \r\nL 314.172986 229.030151 \r\nL 317.247366 229.014557 \r\nL 320.321746 229.071093 \r\nL 323.396126 228.961098 \r\nL 326.470506 229.156033 \r\nL 329.544886 229.338064 \r\nL 332.619267 229.260816 \r\nL 335.693647 229.256548 \r\nL 338.768027 229.521089 \r\nL 341.842407 229.570662 \r\nL 344.916787 229.55865 \r\nL 347.991167 229.624883 \r\nL 351.065548 229.616392 \r\nL 354.139928 229.661124 \r\nL 357.214308 229.761859 \r\nL 360.288688 229.600202 \r\nL 363.363068 229.874489 \r\n\" style=\"fill:none;stroke:#ff7f0e;stroke-linecap:square;stroke-width:1.5;\"/>\r\n   </g>\r\n   <g id=\"patch_3\">\r\n    <path d=\"M 43.78125 239.758125 \r\nL 43.78125 22.318125 \r\n\" style=\"fill:none;stroke:#000000;stroke-linecap:square;stroke-linejoin:miter;stroke-width:0.8;\"/>\r\n   </g>\r\n   <g id=\"patch_4\">\r\n    <path d=\"M 378.58125 239.758125 \r\nL 378.58125 22.318125 \r\n\" style=\"fill:none;stroke:#000000;stroke-linecap:square;stroke-linejoin:miter;stroke-width:0.8;\"/>\r\n   </g>\r\n   <g id=\"patch_5\">\r\n    <path d=\"M 43.78125 239.758125 \r\nL 378.58125 239.758125 \r\n\" style=\"fill:none;stroke:#000000;stroke-linecap:square;stroke-linejoin:miter;stroke-width:0.8;\"/>\r\n   </g>\r\n   <g id=\"patch_6\">\r\n    <path d=\"M 43.78125 22.318125 \r\nL 378.58125 22.318125 \r\n\" style=\"fill:none;stroke:#000000;stroke-linecap:square;stroke-linejoin:miter;stroke-width:0.8;\"/>\r\n   </g>\r\n   <g id=\"text_18\">\r\n    <!-- model loss -->\r\n    <defs>\r\n     <path d=\"M 52 44.1875 \r\nQ 55.375 50.25 60.0625 53.125 \r\nQ 64.75 56 71.09375 56 \r\nQ 79.640625 56 84.28125 50.015625 \r\nQ 88.921875 44.046875 88.921875 33.015625 \r\nL 88.921875 0 \r\nL 79.890625 0 \r\nL 79.890625 32.71875 \r\nQ 79.890625 40.578125 77.09375 44.375 \r\nQ 74.3125 48.1875 68.609375 48.1875 \r\nQ 61.625 48.1875 57.5625 43.546875 \r\nQ 53.515625 38.921875 53.515625 30.90625 \r\nL 53.515625 0 \r\nL 44.484375 0 \r\nL 44.484375 32.71875 \r\nQ 44.484375 40.625 41.703125 44.40625 \r\nQ 38.921875 48.1875 33.109375 48.1875 \r\nQ 26.21875 48.1875 22.15625 43.53125 \r\nQ 18.109375 38.875 18.109375 30.90625 \r\nL 18.109375 0 \r\nL 9.078125 0 \r\nL 9.078125 54.6875 \r\nL 18.109375 54.6875 \r\nL 18.109375 46.1875 \r\nQ 21.1875 51.21875 25.484375 53.609375 \r\nQ 29.78125 56 35.6875 56 \r\nQ 41.65625 56 45.828125 52.96875 \r\nQ 50 49.953125 52 44.1875 \r\nz\r\n\" id=\"DejaVuSans-109\"/>\r\n     <path d=\"M 45.40625 46.390625 \r\nL 45.40625 75.984375 \r\nL 54.390625 75.984375 \r\nL 54.390625 0 \r\nL 45.40625 0 \r\nL 45.40625 8.203125 \r\nQ 42.578125 3.328125 38.25 0.953125 \r\nQ 33.9375 -1.421875 27.875 -1.421875 \r\nQ 17.96875 -1.421875 11.734375 6.484375 \r\nQ 5.515625 14.40625 5.515625 27.296875 \r\nQ 5.515625 40.1875 11.734375 48.09375 \r\nQ 17.96875 56 27.875 56 \r\nQ 33.9375 56 38.25 53.625 \r\nQ 42.578125 51.265625 45.40625 46.390625 \r\nz\r\nM 14.796875 27.296875 \r\nQ 14.796875 17.390625 18.875 11.75 \r\nQ 22.953125 6.109375 30.078125 6.109375 \r\nQ 37.203125 6.109375 41.296875 11.75 \r\nQ 45.40625 17.390625 45.40625 27.296875 \r\nQ 45.40625 37.203125 41.296875 42.84375 \r\nQ 37.203125 48.484375 30.078125 48.484375 \r\nQ 22.953125 48.484375 18.875 42.84375 \r\nQ 14.796875 37.203125 14.796875 27.296875 \r\nz\r\n\" id=\"DejaVuSans-100\"/>\r\n     <path id=\"DejaVuSans-32\"/>\r\n    </defs>\r\n    <g transform=\"translate(179.001563 16.318125)scale(0.12 -0.12)\">\r\n     <use xlink:href=\"#DejaVuSans-109\"/>\r\n     <use x=\"97.412109\" xlink:href=\"#DejaVuSans-111\"/>\r\n     <use x=\"158.59375\" xlink:href=\"#DejaVuSans-100\"/>\r\n     <use x=\"222.070312\" xlink:href=\"#DejaVuSans-101\"/>\r\n     <use x=\"283.59375\" xlink:href=\"#DejaVuSans-108\"/>\r\n     <use x=\"311.376953\" xlink:href=\"#DejaVuSans-32\"/>\r\n     <use x=\"343.164062\" xlink:href=\"#DejaVuSans-108\"/>\r\n     <use x=\"370.947266\" xlink:href=\"#DejaVuSans-111\"/>\r\n     <use x=\"432.128906\" xlink:href=\"#DejaVuSans-115\"/>\r\n     <use x=\"484.228516\" xlink:href=\"#DejaVuSans-115\"/>\r\n    </g>\r\n   </g>\r\n   <g id=\"legend_1\">\r\n    <g id=\"patch_7\">\r\n     <path d=\"M 50.78125 59.674375 \r\nL 106.05625 59.674375 \r\nQ 108.05625 59.674375 108.05625 57.674375 \r\nL 108.05625 29.318125 \r\nQ 108.05625 27.318125 106.05625 27.318125 \r\nL 50.78125 27.318125 \r\nQ 48.78125 27.318125 48.78125 29.318125 \r\nL 48.78125 57.674375 \r\nQ 48.78125 59.674375 50.78125 59.674375 \r\nz\r\n\" style=\"fill:#ffffff;opacity:0.8;stroke:#cccccc;stroke-linejoin:miter;\"/>\r\n    </g>\r\n    <g id=\"line2d_18\">\r\n     <path d=\"M 52.78125 35.416562 \r\nL 72.78125 35.416562 \r\n\" style=\"fill:none;stroke:#1f77b4;stroke-linecap:square;stroke-width:1.5;\"/>\r\n    </g>\r\n    <g id=\"line2d_19\"/>\r\n    <g id=\"text_19\">\r\n     <!-- train -->\r\n     <defs>\r\n      <path d=\"M 18.3125 70.21875 \r\nL 18.3125 54.6875 \r\nL 36.8125 54.6875 \r\nL 36.8125 47.703125 \r\nL 18.3125 47.703125 \r\nL 18.3125 18.015625 \r\nQ 18.3125 11.328125 20.140625 9.421875 \r\nQ 21.96875 7.515625 27.59375 7.515625 \r\nL 36.8125 7.515625 \r\nL 36.8125 0 \r\nL 27.59375 0 \r\nQ 17.1875 0 13.234375 3.875 \r\nQ 9.28125 7.765625 9.28125 18.015625 \r\nL 9.28125 47.703125 \r\nL 2.6875 47.703125 \r\nL 2.6875 54.6875 \r\nL 9.28125 54.6875 \r\nL 9.28125 70.21875 \r\nz\r\n\" id=\"DejaVuSans-116\"/>\r\n      <path d=\"M 41.109375 46.296875 \r\nQ 39.59375 47.171875 37.8125 47.578125 \r\nQ 36.03125 48 33.890625 48 \r\nQ 26.265625 48 22.1875 43.046875 \r\nQ 18.109375 38.09375 18.109375 28.8125 \r\nL 18.109375 0 \r\nL 9.078125 0 \r\nL 9.078125 54.6875 \r\nL 18.109375 54.6875 \r\nL 18.109375 46.1875 \r\nQ 20.953125 51.171875 25.484375 53.578125 \r\nQ 30.03125 56 36.53125 56 \r\nQ 37.453125 56 38.578125 55.875 \r\nQ 39.703125 55.765625 41.0625 55.515625 \r\nz\r\n\" id=\"DejaVuSans-114\"/>\r\n      <path d=\"M 34.28125 27.484375 \r\nQ 23.390625 27.484375 19.1875 25 \r\nQ 14.984375 22.515625 14.984375 16.5 \r\nQ 14.984375 11.71875 18.140625 8.90625 \r\nQ 21.296875 6.109375 26.703125 6.109375 \r\nQ 34.1875 6.109375 38.703125 11.40625 \r\nQ 43.21875 16.703125 43.21875 25.484375 \r\nL 43.21875 27.484375 \r\nz\r\nM 52.203125 31.203125 \r\nL 52.203125 0 \r\nL 43.21875 0 \r\nL 43.21875 8.296875 \r\nQ 40.140625 3.328125 35.546875 0.953125 \r\nQ 30.953125 -1.421875 24.3125 -1.421875 \r\nQ 15.921875 -1.421875 10.953125 3.296875 \r\nQ 6 8.015625 6 15.921875 \r\nQ 6 25.140625 12.171875 29.828125 \r\nQ 18.359375 34.515625 30.609375 34.515625 \r\nL 43.21875 34.515625 \r\nL 43.21875 35.40625 \r\nQ 43.21875 41.609375 39.140625 45 \r\nQ 35.0625 48.390625 27.6875 48.390625 \r\nQ 23 48.390625 18.546875 47.265625 \r\nQ 14.109375 46.140625 10.015625 43.890625 \r\nL 10.015625 52.203125 \r\nQ 14.9375 54.109375 19.578125 55.046875 \r\nQ 24.21875 56 28.609375 56 \r\nQ 40.484375 56 46.34375 49.84375 \r\nQ 52.203125 43.703125 52.203125 31.203125 \r\nz\r\n\" id=\"DejaVuSans-97\"/>\r\n      <path d=\"M 9.421875 54.6875 \r\nL 18.40625 54.6875 \r\nL 18.40625 0 \r\nL 9.421875 0 \r\nz\r\nM 9.421875 75.984375 \r\nL 18.40625 75.984375 \r\nL 18.40625 64.59375 \r\nL 9.421875 64.59375 \r\nz\r\n\" id=\"DejaVuSans-105\"/>\r\n      <path d=\"M 54.890625 33.015625 \r\nL 54.890625 0 \r\nL 45.90625 0 \r\nL 45.90625 32.71875 \r\nQ 45.90625 40.484375 42.875 44.328125 \r\nQ 39.84375 48.1875 33.796875 48.1875 \r\nQ 26.515625 48.1875 22.3125 43.546875 \r\nQ 18.109375 38.921875 18.109375 30.90625 \r\nL 18.109375 0 \r\nL 9.078125 0 \r\nL 9.078125 54.6875 \r\nL 18.109375 54.6875 \r\nL 18.109375 46.1875 \r\nQ 21.34375 51.125 25.703125 53.5625 \r\nQ 30.078125 56 35.796875 56 \r\nQ 45.21875 56 50.046875 50.171875 \r\nQ 54.890625 44.34375 54.890625 33.015625 \r\nz\r\n\" id=\"DejaVuSans-110\"/>\r\n     </defs>\r\n     <g transform=\"translate(80.78125 38.916562)scale(0.1 -0.1)\">\r\n      <use xlink:href=\"#DejaVuSans-116\"/>\r\n      <use x=\"39.208984\" xlink:href=\"#DejaVuSans-114\"/>\r\n      <use x=\"80.322266\" xlink:href=\"#DejaVuSans-97\"/>\r\n      <use x=\"141.601562\" xlink:href=\"#DejaVuSans-105\"/>\r\n      <use x=\"169.384766\" xlink:href=\"#DejaVuSans-110\"/>\r\n     </g>\r\n    </g>\r\n    <g id=\"line2d_20\">\r\n     <path d=\"M 52.78125 50.094687 \r\nL 72.78125 50.094687 \r\n\" style=\"fill:none;stroke:#ff7f0e;stroke-linecap:square;stroke-width:1.5;\"/>\r\n    </g>\r\n    <g id=\"line2d_21\"/>\r\n    <g id=\"text_20\">\r\n     <!-- test -->\r\n     <g transform=\"translate(80.78125 53.594687)scale(0.1 -0.1)\">\r\n      <use xlink:href=\"#DejaVuSans-116\"/>\r\n      <use x=\"39.208984\" xlink:href=\"#DejaVuSans-101\"/>\r\n      <use x=\"100.732422\" xlink:href=\"#DejaVuSans-115\"/>\r\n      <use x=\"152.832031\" xlink:href=\"#DejaVuSans-116\"/>\r\n     </g>\r\n    </g>\r\n   </g>\r\n  </g>\r\n </g>\r\n <defs>\r\n  <clipPath id=\"p0ee634222b\">\r\n   <rect height=\"217.44\" width=\"334.8\" x=\"43.78125\" y=\"22.318125\"/>\r\n  </clipPath>\r\n </defs>\r\n</svg>\r\n",
      "image/png": "[encoded data removed]"
     },
     "metadata": {
      "needs_background": "light"
     }
    }
   ],
   "metadata": {}
  },
  {
   "cell_type": "code",
   "execution_count": 23,
   "source": [
    "plt.plot(cnn_lstm.history['accuracy'])\r\n",
    "plt.plot(cnn_lstm.history['val_accuracy'])\r\n",
    "plt.title('model accuracy')\r\n",
    "plt.ylabel('acc')\r\n",
    "plt.xlabel('epoch')\r\n",
    "plt.legend(['train', 'test'], loc='upper left')\r\n",
    "plt.show()"
   ],
   "outputs": [
    {
     "output_type": "display_data",
     "data": {
      "text/plain": [
       "<Figure size 432x288 with 1 Axes>"
      ],
      "image/svg+xml": "<?xml version=\"1.0\" encoding=\"utf-8\" standalone=\"no\"?>\r\n<!DOCTYPE svg PUBLIC \"-//W3C//DTD SVG 1.1//EN\"\r\n  \"http://www.w3.org/Graphics/SVG/1.1/DTD/svg11.dtd\">\r\n<!-- Created with matplotlib (https://matplotlib.org/) -->\r\n<svg height=\"277.314375pt\" version=\"1.1\" viewBox=\"0 0 392.14375 277.314375\" width=\"392.14375pt\" xmlns=\"http://www.w3.org/2000/svg\" xmlns:xlink=\"http://www.w3.org/1999/xlink\">\r\n <defs>\r\n  <style type=\"text/css\">\r\n*{stroke-linecap:butt;stroke-linejoin:round;}\r\n  </style>\r\n </defs>\r\n <g id=\"figure_1\">\r\n  <g id=\"patch_1\">\r\n   <path d=\"M 0 277.314375 \r\nL 392.14375 277.314375 \r\nL 392.14375 0 \r\nL 0 0 \r\nz\r\n\" style=\"fill:none;\"/>\r\n  </g>\r\n  <g id=\"axes_1\">\r\n   <g id=\"patch_2\">\r\n    <path d=\"M 50.14375 239.758125 \r\nL 384.94375 239.758125 \r\nL 384.94375 22.318125 \r\nL 50.14375 22.318125 \r\nz\r\n\" style=\"fill:#ffffff;\"/>\r\n   </g>\r\n   <g id=\"matplotlib.axis_1\">\r\n    <g id=\"xtick_1\">\r\n     <g id=\"line2d_1\">\r\n      <defs>\r\n       <path d=\"M 0 0 \r\nL 0 3.5 \r\n\" id=\"m9961affca1\" style=\"stroke:#000000;stroke-width:0.8;\"/>\r\n      </defs>\r\n      <g>\r\n       <use style=\"stroke:#000000;stroke-width:0.8;\" x=\"65.361932\" xlink:href=\"#m9961affca1\" y=\"239.758125\"/>\r\n      </g>\r\n     </g>\r\n     <g id=\"text_1\">\r\n      <!-- 0 -->\r\n      <defs>\r\n       <path d=\"M 31.78125 66.40625 \r\nQ 24.171875 66.40625 20.328125 58.90625 \r\nQ 16.5 51.421875 16.5 36.375 \r\nQ 16.5 21.390625 20.328125 13.890625 \r\nQ 24.171875 6.390625 31.78125 6.390625 \r\nQ 39.453125 6.390625 43.28125 13.890625 \r\nQ 47.125 21.390625 47.125 36.375 \r\nQ 47.125 51.421875 43.28125 58.90625 \r\nQ 39.453125 66.40625 31.78125 66.40625 \r\nz\r\nM 31.78125 74.21875 \r\nQ 44.046875 74.21875 50.515625 64.515625 \r\nQ 56.984375 54.828125 56.984375 36.375 \r\nQ 56.984375 17.96875 50.515625 8.265625 \r\nQ 44.046875 -1.421875 31.78125 -1.421875 \r\nQ 19.53125 -1.421875 13.0625 8.265625 \r\nQ 6.59375 17.96875 6.59375 36.375 \r\nQ 6.59375 54.828125 13.0625 64.515625 \r\nQ 19.53125 74.21875 31.78125 74.21875 \r\nz\r\n\" id=\"DejaVuSans-48\"/>\r\n      </defs>\r\n      <g transform=\"translate(62.180682 254.356562)scale(0.1 -0.1)\">\r\n       <use xlink:href=\"#DejaVuSans-48\"/>\r\n      </g>\r\n     </g>\r\n    </g>\r\n    <g id=\"xtick_2\">\r\n     <g id=\"line2d_2\">\r\n      <g>\r\n       <use style=\"stroke:#000000;stroke-width:0.8;\" x=\"126.849535\" xlink:href=\"#m9961affca1\" y=\"239.758125\"/>\r\n      </g>\r\n     </g>\r\n     <g id=\"text_2\">\r\n      <!-- 20 -->\r\n      <defs>\r\n       <path d=\"M 19.1875 8.296875 \r\nL 53.609375 8.296875 \r\nL 53.609375 0 \r\nL 7.328125 0 \r\nL 7.328125 8.296875 \r\nQ 12.9375 14.109375 22.625 23.890625 \r\nQ 32.328125 33.6875 34.8125 36.53125 \r\nQ 39.546875 41.84375 41.421875 45.53125 \r\nQ 43.3125 49.21875 43.3125 52.78125 \r\nQ 43.3125 58.59375 39.234375 62.25 \r\nQ 35.15625 65.921875 28.609375 65.921875 \r\nQ 23.96875 65.921875 18.8125 64.3125 \r\nQ 13.671875 62.703125 7.8125 59.421875 \r\nL 7.8125 69.390625 \r\nQ 13.765625 71.78125 18.9375 73 \r\nQ 24.125 74.21875 28.421875 74.21875 \r\nQ 39.75 74.21875 46.484375 68.546875 \r\nQ 53.21875 62.890625 53.21875 53.421875 \r\nQ 53.21875 48.921875 51.53125 44.890625 \r\nQ 49.859375 40.875 45.40625 35.40625 \r\nQ 44.1875 33.984375 37.640625 27.21875 \r\nQ 31.109375 20.453125 19.1875 8.296875 \r\nz\r\n\" id=\"DejaVuSans-50\"/>\r\n      </defs>\r\n      <g transform=\"translate(120.487035 254.356562)scale(0.1 -0.1)\">\r\n       <use xlink:href=\"#DejaVuSans-50\"/>\r\n       <use x=\"63.623047\" xlink:href=\"#DejaVuSans-48\"/>\r\n      </g>\r\n     </g>\r\n    </g>\r\n    <g id=\"xtick_3\">\r\n     <g id=\"line2d_3\">\r\n      <g>\r\n       <use style=\"stroke:#000000;stroke-width:0.8;\" x=\"188.337138\" xlink:href=\"#m9961affca1\" y=\"239.758125\"/>\r\n      </g>\r\n     </g>\r\n     <g id=\"text_3\">\r\n      <!-- 40 -->\r\n      <defs>\r\n       <path d=\"M 37.796875 64.3125 \r\nL 12.890625 25.390625 \r\nL 37.796875 25.390625 \r\nz\r\nM 35.203125 72.90625 \r\nL 47.609375 72.90625 \r\nL 47.609375 25.390625 \r\nL 58.015625 25.390625 \r\nL 58.015625 17.1875 \r\nL 47.609375 17.1875 \r\nL 47.609375 0 \r\nL 37.796875 0 \r\nL 37.796875 17.1875 \r\nL 4.890625 17.1875 \r\nL 4.890625 26.703125 \r\nz\r\n\" id=\"DejaVuSans-52\"/>\r\n      </defs>\r\n      <g transform=\"translate(181.974638 254.356562)scale(0.1 -0.1)\">\r\n       <use xlink:href=\"#DejaVuSans-52\"/>\r\n       <use x=\"63.623047\" xlink:href=\"#DejaVuSans-48\"/>\r\n      </g>\r\n     </g>\r\n    </g>\r\n    <g id=\"xtick_4\">\r\n     <g id=\"line2d_4\">\r\n      <g>\r\n       <use style=\"stroke:#000000;stroke-width:0.8;\" x=\"249.824742\" xlink:href=\"#m9961affca1\" y=\"239.758125\"/>\r\n      </g>\r\n     </g>\r\n     <g id=\"text_4\">\r\n      <!-- 60 -->\r\n      <defs>\r\n       <path d=\"M 33.015625 40.375 \r\nQ 26.375 40.375 22.484375 35.828125 \r\nQ 18.609375 31.296875 18.609375 23.390625 \r\nQ 18.609375 15.53125 22.484375 10.953125 \r\nQ 26.375 6.390625 33.015625 6.390625 \r\nQ 39.65625 6.390625 43.53125 10.953125 \r\nQ 47.40625 15.53125 47.40625 23.390625 \r\nQ 47.40625 31.296875 43.53125 35.828125 \r\nQ 39.65625 40.375 33.015625 40.375 \r\nz\r\nM 52.59375 71.296875 \r\nL 52.59375 62.3125 \r\nQ 48.875 64.0625 45.09375 64.984375 \r\nQ 41.3125 65.921875 37.59375 65.921875 \r\nQ 27.828125 65.921875 22.671875 59.328125 \r\nQ 17.53125 52.734375 16.796875 39.40625 \r\nQ 19.671875 43.65625 24.015625 45.921875 \r\nQ 28.375 48.1875 33.59375 48.1875 \r\nQ 44.578125 48.1875 50.953125 41.515625 \r\nQ 57.328125 34.859375 57.328125 23.390625 \r\nQ 57.328125 12.15625 50.6875 5.359375 \r\nQ 44.046875 -1.421875 33.015625 -1.421875 \r\nQ 20.359375 -1.421875 13.671875 8.265625 \r\nQ 6.984375 17.96875 6.984375 36.375 \r\nQ 6.984375 53.65625 15.1875 63.9375 \r\nQ 23.390625 74.21875 37.203125 74.21875 \r\nQ 40.921875 74.21875 44.703125 73.484375 \r\nQ 48.484375 72.75 52.59375 71.296875 \r\nz\r\n\" id=\"DejaVuSans-54\"/>\r\n      </defs>\r\n      <g transform=\"translate(243.462242 254.356562)scale(0.1 -0.1)\">\r\n       <use xlink:href=\"#DejaVuSans-54\"/>\r\n       <use x=\"63.623047\" xlink:href=\"#DejaVuSans-48\"/>\r\n      </g>\r\n     </g>\r\n    </g>\r\n    <g id=\"xtick_5\">\r\n     <g id=\"line2d_5\">\r\n      <g>\r\n       <use style=\"stroke:#000000;stroke-width:0.8;\" x=\"311.312345\" xlink:href=\"#m9961affca1\" y=\"239.758125\"/>\r\n      </g>\r\n     </g>\r\n     <g id=\"text_5\">\r\n      <!-- 80 -->\r\n      <defs>\r\n       <path d=\"M 31.78125 34.625 \r\nQ 24.75 34.625 20.71875 30.859375 \r\nQ 16.703125 27.09375 16.703125 20.515625 \r\nQ 16.703125 13.921875 20.71875 10.15625 \r\nQ 24.75 6.390625 31.78125 6.390625 \r\nQ 38.8125 6.390625 42.859375 10.171875 \r\nQ 46.921875 13.96875 46.921875 20.515625 \r\nQ 46.921875 27.09375 42.890625 30.859375 \r\nQ 38.875 34.625 31.78125 34.625 \r\nz\r\nM 21.921875 38.8125 \r\nQ 15.578125 40.375 12.03125 44.71875 \r\nQ 8.5 49.078125 8.5 55.328125 \r\nQ 8.5 64.0625 14.71875 69.140625 \r\nQ 20.953125 74.21875 31.78125 74.21875 \r\nQ 42.671875 74.21875 48.875 69.140625 \r\nQ 55.078125 64.0625 55.078125 55.328125 \r\nQ 55.078125 49.078125 51.53125 44.71875 \r\nQ 48 40.375 41.703125 38.8125 \r\nQ 48.828125 37.15625 52.796875 32.3125 \r\nQ 56.78125 27.484375 56.78125 20.515625 \r\nQ 56.78125 9.90625 50.3125 4.234375 \r\nQ 43.84375 -1.421875 31.78125 -1.421875 \r\nQ 19.734375 -1.421875 13.25 4.234375 \r\nQ 6.78125 9.90625 6.78125 20.515625 \r\nQ 6.78125 27.484375 10.78125 32.3125 \r\nQ 14.796875 37.15625 21.921875 38.8125 \r\nz\r\nM 18.3125 54.390625 \r\nQ 18.3125 48.734375 21.84375 45.5625 \r\nQ 25.390625 42.390625 31.78125 42.390625 \r\nQ 38.140625 42.390625 41.71875 45.5625 \r\nQ 45.3125 48.734375 45.3125 54.390625 \r\nQ 45.3125 60.0625 41.71875 63.234375 \r\nQ 38.140625 66.40625 31.78125 66.40625 \r\nQ 25.390625 66.40625 21.84375 63.234375 \r\nQ 18.3125 60.0625 18.3125 54.390625 \r\nz\r\n\" id=\"DejaVuSans-56\"/>\r\n      </defs>\r\n      <g transform=\"translate(304.949845 254.356562)scale(0.1 -0.1)\">\r\n       <use xlink:href=\"#DejaVuSans-56\"/>\r\n       <use x=\"63.623047\" xlink:href=\"#DejaVuSans-48\"/>\r\n      </g>\r\n     </g>\r\n    </g>\r\n    <g id=\"xtick_6\">\r\n     <g id=\"line2d_6\">\r\n      <g>\r\n       <use style=\"stroke:#000000;stroke-width:0.8;\" x=\"372.799948\" xlink:href=\"#m9961affca1\" y=\"239.758125\"/>\r\n      </g>\r\n     </g>\r\n     <g id=\"text_6\">\r\n      <!-- 100 -->\r\n      <defs>\r\n       <path d=\"M 12.40625 8.296875 \r\nL 28.515625 8.296875 \r\nL 28.515625 63.921875 \r\nL 10.984375 60.40625 \r\nL 10.984375 69.390625 \r\nL 28.421875 72.90625 \r\nL 38.28125 72.90625 \r\nL 38.28125 8.296875 \r\nL 54.390625 8.296875 \r\nL 54.390625 0 \r\nL 12.40625 0 \r\nz\r\n\" id=\"DejaVuSans-49\"/>\r\n      </defs>\r\n      <g transform=\"translate(363.256198 254.356562)scale(0.1 -0.1)\">\r\n       <use xlink:href=\"#DejaVuSans-49\"/>\r\n       <use x=\"63.623047\" xlink:href=\"#DejaVuSans-48\"/>\r\n       <use x=\"127.246094\" xlink:href=\"#DejaVuSans-48\"/>\r\n      </g>\r\n     </g>\r\n    </g>\r\n    <g id=\"text_7\">\r\n     <!-- epoch -->\r\n     <defs>\r\n      <path d=\"M 56.203125 29.59375 \r\nL 56.203125 25.203125 \r\nL 14.890625 25.203125 \r\nQ 15.484375 15.921875 20.484375 11.0625 \r\nQ 25.484375 6.203125 34.421875 6.203125 \r\nQ 39.59375 6.203125 44.453125 7.46875 \r\nQ 49.3125 8.734375 54.109375 11.28125 \r\nL 54.109375 2.78125 \r\nQ 49.265625 0.734375 44.1875 -0.34375 \r\nQ 39.109375 -1.421875 33.890625 -1.421875 \r\nQ 20.796875 -1.421875 13.15625 6.1875 \r\nQ 5.515625 13.8125 5.515625 26.8125 \r\nQ 5.515625 40.234375 12.765625 48.109375 \r\nQ 20.015625 56 32.328125 56 \r\nQ 43.359375 56 49.78125 48.890625 \r\nQ 56.203125 41.796875 56.203125 29.59375 \r\nz\r\nM 47.21875 32.234375 \r\nQ 47.125 39.59375 43.09375 43.984375 \r\nQ 39.0625 48.390625 32.421875 48.390625 \r\nQ 24.90625 48.390625 20.390625 44.140625 \r\nQ 15.875 39.890625 15.1875 32.171875 \r\nz\r\n\" id=\"DejaVuSans-101\"/>\r\n      <path d=\"M 18.109375 8.203125 \r\nL 18.109375 -20.796875 \r\nL 9.078125 -20.796875 \r\nL 9.078125 54.6875 \r\nL 18.109375 54.6875 \r\nL 18.109375 46.390625 \r\nQ 20.953125 51.265625 25.265625 53.625 \r\nQ 29.59375 56 35.59375 56 \r\nQ 45.5625 56 51.78125 48.09375 \r\nQ 58.015625 40.1875 58.015625 27.296875 \r\nQ 58.015625 14.40625 51.78125 6.484375 \r\nQ 45.5625 -1.421875 35.59375 -1.421875 \r\nQ 29.59375 -1.421875 25.265625 0.953125 \r\nQ 20.953125 3.328125 18.109375 8.203125 \r\nz\r\nM 48.6875 27.296875 \r\nQ 48.6875 37.203125 44.609375 42.84375 \r\nQ 40.53125 48.484375 33.40625 48.484375 \r\nQ 26.265625 48.484375 22.1875 42.84375 \r\nQ 18.109375 37.203125 18.109375 27.296875 \r\nQ 18.109375 17.390625 22.1875 11.75 \r\nQ 26.265625 6.109375 33.40625 6.109375 \r\nQ 40.53125 6.109375 44.609375 11.75 \r\nQ 48.6875 17.390625 48.6875 27.296875 \r\nz\r\n\" id=\"DejaVuSans-112\"/>\r\n      <path d=\"M 30.609375 48.390625 \r\nQ 23.390625 48.390625 19.1875 42.75 \r\nQ 14.984375 37.109375 14.984375 27.296875 \r\nQ 14.984375 17.484375 19.15625 11.84375 \r\nQ 23.34375 6.203125 30.609375 6.203125 \r\nQ 37.796875 6.203125 41.984375 11.859375 \r\nQ 46.1875 17.53125 46.1875 27.296875 \r\nQ 46.1875 37.015625 41.984375 42.703125 \r\nQ 37.796875 48.390625 30.609375 48.390625 \r\nz\r\nM 30.609375 56 \r\nQ 42.328125 56 49.015625 48.375 \r\nQ 55.71875 40.765625 55.71875 27.296875 \r\nQ 55.71875 13.875 49.015625 6.21875 \r\nQ 42.328125 -1.421875 30.609375 -1.421875 \r\nQ 18.84375 -1.421875 12.171875 6.21875 \r\nQ 5.515625 13.875 5.515625 27.296875 \r\nQ 5.515625 40.765625 12.171875 48.375 \r\nQ 18.84375 56 30.609375 56 \r\nz\r\n\" id=\"DejaVuSans-111\"/>\r\n      <path d=\"M 48.78125 52.59375 \r\nL 48.78125 44.1875 \r\nQ 44.96875 46.296875 41.140625 47.34375 \r\nQ 37.3125 48.390625 33.40625 48.390625 \r\nQ 24.65625 48.390625 19.8125 42.84375 \r\nQ 14.984375 37.3125 14.984375 27.296875 \r\nQ 14.984375 17.28125 19.8125 11.734375 \r\nQ 24.65625 6.203125 33.40625 6.203125 \r\nQ 37.3125 6.203125 41.140625 7.25 \r\nQ 44.96875 8.296875 48.78125 10.40625 \r\nL 48.78125 2.09375 \r\nQ 45.015625 0.34375 40.984375 -0.53125 \r\nQ 36.96875 -1.421875 32.421875 -1.421875 \r\nQ 20.0625 -1.421875 12.78125 6.34375 \r\nQ 5.515625 14.109375 5.515625 27.296875 \r\nQ 5.515625 40.671875 12.859375 48.328125 \r\nQ 20.21875 56 33.015625 56 \r\nQ 37.15625 56 41.109375 55.140625 \r\nQ 45.0625 54.296875 48.78125 52.59375 \r\nz\r\n\" id=\"DejaVuSans-99\"/>\r\n      <path d=\"M 54.890625 33.015625 \r\nL 54.890625 0 \r\nL 45.90625 0 \r\nL 45.90625 32.71875 \r\nQ 45.90625 40.484375 42.875 44.328125 \r\nQ 39.84375 48.1875 33.796875 48.1875 \r\nQ 26.515625 48.1875 22.3125 43.546875 \r\nQ 18.109375 38.921875 18.109375 30.90625 \r\nL 18.109375 0 \r\nL 9.078125 0 \r\nL 9.078125 75.984375 \r\nL 18.109375 75.984375 \r\nL 18.109375 46.1875 \r\nQ 21.34375 51.125 25.703125 53.5625 \r\nQ 30.078125 56 35.796875 56 \r\nQ 45.21875 56 50.046875 50.171875 \r\nQ 54.890625 44.34375 54.890625 33.015625 \r\nz\r\n\" id=\"DejaVuSans-104\"/>\r\n     </defs>\r\n     <g transform=\"translate(202.315625 268.034687)scale(0.1 -0.1)\">\r\n      <use xlink:href=\"#DejaVuSans-101\"/>\r\n      <use x=\"61.523438\" xlink:href=\"#DejaVuSans-112\"/>\r\n      <use x=\"125\" xlink:href=\"#DejaVuSans-111\"/>\r\n      <use x=\"186.181641\" xlink:href=\"#DejaVuSans-99\"/>\r\n      <use x=\"241.162109\" xlink:href=\"#DejaVuSans-104\"/>\r\n     </g>\r\n    </g>\r\n   </g>\r\n   <g id=\"matplotlib.axis_2\">\r\n    <g id=\"ytick_1\">\r\n     <g id=\"line2d_7\">\r\n      <defs>\r\n       <path d=\"M 0 0 \r\nL -3.5 0 \r\n\" id=\"mf67efbe01b\" style=\"stroke:#000000;stroke-width:0.8;\"/>\r\n      </defs>\r\n      <g>\r\n       <use style=\"stroke:#000000;stroke-width:0.8;\" x=\"50.14375\" xlink:href=\"#mf67efbe01b\" y=\"236.702926\"/>\r\n      </g>\r\n     </g>\r\n     <g id=\"text_8\">\r\n      <!-- 0.60 -->\r\n      <defs>\r\n       <path d=\"M 10.6875 12.40625 \r\nL 21 12.40625 \r\nL 21 0 \r\nL 10.6875 0 \r\nz\r\n\" id=\"DejaVuSans-46\"/>\r\n      </defs>\r\n      <g transform=\"translate(20.878125 240.502145)scale(0.1 -0.1)\">\r\n       <use xlink:href=\"#DejaVuSans-48\"/>\r\n       <use x=\"63.623047\" xlink:href=\"#DejaVuSans-46\"/>\r\n       <use x=\"95.410156\" xlink:href=\"#DejaVuSans-54\"/>\r\n       <use x=\"159.033203\" xlink:href=\"#DejaVuSans-48\"/>\r\n      </g>\r\n     </g>\r\n    </g>\r\n    <g id=\"ytick_2\">\r\n     <g id=\"line2d_8\">\r\n      <g>\r\n       <use style=\"stroke:#000000;stroke-width:0.8;\" x=\"50.14375\" xlink:href=\"#mf67efbe01b\" y=\"202.916829\"/>\r\n      </g>\r\n     </g>\r\n     <g id=\"text_9\">\r\n      <!-- 0.65 -->\r\n      <defs>\r\n       <path d=\"M 10.796875 72.90625 \r\nL 49.515625 72.90625 \r\nL 49.515625 64.59375 \r\nL 19.828125 64.59375 \r\nL 19.828125 46.734375 \r\nQ 21.96875 47.46875 24.109375 47.828125 \r\nQ 26.265625 48.1875 28.421875 48.1875 \r\nQ 40.625 48.1875 47.75 41.5 \r\nQ 54.890625 34.8125 54.890625 23.390625 \r\nQ 54.890625 11.625 47.5625 5.09375 \r\nQ 40.234375 -1.421875 26.90625 -1.421875 \r\nQ 22.3125 -1.421875 17.546875 -0.640625 \r\nQ 12.796875 0.140625 7.71875 1.703125 \r\nL 7.71875 11.625 \r\nQ 12.109375 9.234375 16.796875 8.0625 \r\nQ 21.484375 6.890625 26.703125 6.890625 \r\nQ 35.15625 6.890625 40.078125 11.328125 \r\nQ 45.015625 15.765625 45.015625 23.390625 \r\nQ 45.015625 31 40.078125 35.4375 \r\nQ 35.15625 39.890625 26.703125 39.890625 \r\nQ 22.75 39.890625 18.8125 39.015625 \r\nQ 14.890625 38.140625 10.796875 36.28125 \r\nz\r\n\" id=\"DejaVuSans-53\"/>\r\n      </defs>\r\n      <g transform=\"translate(20.878125 206.716047)scale(0.1 -0.1)\">\r\n       <use xlink:href=\"#DejaVuSans-48\"/>\r\n       <use x=\"63.623047\" xlink:href=\"#DejaVuSans-46\"/>\r\n       <use x=\"95.410156\" xlink:href=\"#DejaVuSans-54\"/>\r\n       <use x=\"159.033203\" xlink:href=\"#DejaVuSans-53\"/>\r\n      </g>\r\n     </g>\r\n    </g>\r\n    <g id=\"ytick_3\">\r\n     <g id=\"line2d_9\">\r\n      <g>\r\n       <use style=\"stroke:#000000;stroke-width:0.8;\" x=\"50.14375\" xlink:href=\"#mf67efbe01b\" y=\"169.130731\"/>\r\n      </g>\r\n     </g>\r\n     <g id=\"text_10\">\r\n      <!-- 0.70 -->\r\n      <defs>\r\n       <path d=\"M 8.203125 72.90625 \r\nL 55.078125 72.90625 \r\nL 55.078125 68.703125 \r\nL 28.609375 0 \r\nL 18.3125 0 \r\nL 43.21875 64.59375 \r\nL 8.203125 64.59375 \r\nz\r\n\" id=\"DejaVuSans-55\"/>\r\n      </defs>\r\n      <g transform=\"translate(20.878125 172.92995)scale(0.1 -0.1)\">\r\n       <use xlink:href=\"#DejaVuSans-48\"/>\r\n       <use x=\"63.623047\" xlink:href=\"#DejaVuSans-46\"/>\r\n       <use x=\"95.410156\" xlink:href=\"#DejaVuSans-55\"/>\r\n       <use x=\"159.033203\" xlink:href=\"#DejaVuSans-48\"/>\r\n      </g>\r\n     </g>\r\n    </g>\r\n    <g id=\"ytick_4\">\r\n     <g id=\"line2d_10\">\r\n      <g>\r\n       <use style=\"stroke:#000000;stroke-width:0.8;\" x=\"50.14375\" xlink:href=\"#mf67efbe01b\" y=\"135.344634\"/>\r\n      </g>\r\n     </g>\r\n     <g id=\"text_11\">\r\n      <!-- 0.75 -->\r\n      <g transform=\"translate(20.878125 139.143853)scale(0.1 -0.1)\">\r\n       <use xlink:href=\"#DejaVuSans-48\"/>\r\n       <use x=\"63.623047\" xlink:href=\"#DejaVuSans-46\"/>\r\n       <use x=\"95.410156\" xlink:href=\"#DejaVuSans-55\"/>\r\n       <use x=\"159.033203\" xlink:href=\"#DejaVuSans-53\"/>\r\n      </g>\r\n     </g>\r\n    </g>\r\n    <g id=\"ytick_5\">\r\n     <g id=\"line2d_11\">\r\n      <g>\r\n       <use style=\"stroke:#000000;stroke-width:0.8;\" x=\"50.14375\" xlink:href=\"#mf67efbe01b\" y=\"101.558537\"/>\r\n      </g>\r\n     </g>\r\n     <g id=\"text_12\">\r\n      <!-- 0.80 -->\r\n      <g transform=\"translate(20.878125 105.357755)scale(0.1 -0.1)\">\r\n       <use xlink:href=\"#DejaVuSans-48\"/>\r\n       <use x=\"63.623047\" xlink:href=\"#DejaVuSans-46\"/>\r\n       <use x=\"95.410156\" xlink:href=\"#DejaVuSans-56\"/>\r\n       <use x=\"159.033203\" xlink:href=\"#DejaVuSans-48\"/>\r\n      </g>\r\n     </g>\r\n    </g>\r\n    <g id=\"ytick_6\">\r\n     <g id=\"line2d_12\">\r\n      <g>\r\n       <use style=\"stroke:#000000;stroke-width:0.8;\" x=\"50.14375\" xlink:href=\"#mf67efbe01b\" y=\"67.772439\"/>\r\n      </g>\r\n     </g>\r\n     <g id=\"text_13\">\r\n      <!-- 0.85 -->\r\n      <g transform=\"translate(20.878125 71.571658)scale(0.1 -0.1)\">\r\n       <use xlink:href=\"#DejaVuSans-48\"/>\r\n       <use x=\"63.623047\" xlink:href=\"#DejaVuSans-46\"/>\r\n       <use x=\"95.410156\" xlink:href=\"#DejaVuSans-56\"/>\r\n       <use x=\"159.033203\" xlink:href=\"#DejaVuSans-53\"/>\r\n      </g>\r\n     </g>\r\n    </g>\r\n    <g id=\"ytick_7\">\r\n     <g id=\"line2d_13\">\r\n      <g>\r\n       <use style=\"stroke:#000000;stroke-width:0.8;\" x=\"50.14375\" xlink:href=\"#mf67efbe01b\" y=\"33.986342\"/>\r\n      </g>\r\n     </g>\r\n     <g id=\"text_14\">\r\n      <!-- 0.90 -->\r\n      <defs>\r\n       <path d=\"M 10.984375 1.515625 \r\nL 10.984375 10.5 \r\nQ 14.703125 8.734375 18.5 7.8125 \r\nQ 22.3125 6.890625 25.984375 6.890625 \r\nQ 35.75 6.890625 40.890625 13.453125 \r\nQ 46.046875 20.015625 46.78125 33.40625 \r\nQ 43.953125 29.203125 39.59375 26.953125 \r\nQ 35.25 24.703125 29.984375 24.703125 \r\nQ 19.046875 24.703125 12.671875 31.3125 \r\nQ 6.296875 37.9375 6.296875 49.421875 \r\nQ 6.296875 60.640625 12.9375 67.421875 \r\nQ 19.578125 74.21875 30.609375 74.21875 \r\nQ 43.265625 74.21875 49.921875 64.515625 \r\nQ 56.59375 54.828125 56.59375 36.375 \r\nQ 56.59375 19.140625 48.40625 8.859375 \r\nQ 40.234375 -1.421875 26.421875 -1.421875 \r\nQ 22.703125 -1.421875 18.890625 -0.6875 \r\nQ 15.09375 0.046875 10.984375 1.515625 \r\nz\r\nM 30.609375 32.421875 \r\nQ 37.25 32.421875 41.125 36.953125 \r\nQ 45.015625 41.5 45.015625 49.421875 \r\nQ 45.015625 57.28125 41.125 61.84375 \r\nQ 37.25 66.40625 30.609375 66.40625 \r\nQ 23.96875 66.40625 20.09375 61.84375 \r\nQ 16.21875 57.28125 16.21875 49.421875 \r\nQ 16.21875 41.5 20.09375 36.953125 \r\nQ 23.96875 32.421875 30.609375 32.421875 \r\nz\r\n\" id=\"DejaVuSans-57\"/>\r\n      </defs>\r\n      <g transform=\"translate(20.878125 37.785561)scale(0.1 -0.1)\">\r\n       <use xlink:href=\"#DejaVuSans-48\"/>\r\n       <use x=\"63.623047\" xlink:href=\"#DejaVuSans-46\"/>\r\n       <use x=\"95.410156\" xlink:href=\"#DejaVuSans-57\"/>\r\n       <use x=\"159.033203\" xlink:href=\"#DejaVuSans-48\"/>\r\n      </g>\r\n     </g>\r\n    </g>\r\n    <g id=\"text_15\">\r\n     <!-- acc -->\r\n     <defs>\r\n      <path d=\"M 34.28125 27.484375 \r\nQ 23.390625 27.484375 19.1875 25 \r\nQ 14.984375 22.515625 14.984375 16.5 \r\nQ 14.984375 11.71875 18.140625 8.90625 \r\nQ 21.296875 6.109375 26.703125 6.109375 \r\nQ 34.1875 6.109375 38.703125 11.40625 \r\nQ 43.21875 16.703125 43.21875 25.484375 \r\nL 43.21875 27.484375 \r\nz\r\nM 52.203125 31.203125 \r\nL 52.203125 0 \r\nL 43.21875 0 \r\nL 43.21875 8.296875 \r\nQ 40.140625 3.328125 35.546875 0.953125 \r\nQ 30.953125 -1.421875 24.3125 -1.421875 \r\nQ 15.921875 -1.421875 10.953125 3.296875 \r\nQ 6 8.015625 6 15.921875 \r\nQ 6 25.140625 12.171875 29.828125 \r\nQ 18.359375 34.515625 30.609375 34.515625 \r\nL 43.21875 34.515625 \r\nL 43.21875 35.40625 \r\nQ 43.21875 41.609375 39.140625 45 \r\nQ 35.0625 48.390625 27.6875 48.390625 \r\nQ 23 48.390625 18.546875 47.265625 \r\nQ 14.109375 46.140625 10.015625 43.890625 \r\nL 10.015625 52.203125 \r\nQ 14.9375 54.109375 19.578125 55.046875 \r\nQ 24.21875 56 28.609375 56 \r\nQ 40.484375 56 46.34375 49.84375 \r\nQ 52.203125 43.703125 52.203125 31.203125 \r\nz\r\n\" id=\"DejaVuSans-97\"/>\r\n     </defs>\r\n     <g transform=\"translate(14.798438 139.600625)rotate(-90)scale(0.1 -0.1)\">\r\n      <use xlink:href=\"#DejaVuSans-97\"/>\r\n      <use x=\"61.279297\" xlink:href=\"#DejaVuSans-99\"/>\r\n      <use x=\"116.259766\" xlink:href=\"#DejaVuSans-99\"/>\r\n     </g>\r\n    </g>\r\n   </g>\r\n   <g id=\"line2d_14\">\r\n    <path clip-path=\"url(#pf752d92f5a)\" d=\"M 65.361932 229.874489 \r\nL 68.436312 157.851359 \r\nL 71.510692 115.536171 \r\nL 74.585072 94.156454 \r\nL 77.659452 90.579689 \r\nL 80.733833 85.681503 \r\nL 83.808213 82.152102 \r\nL 86.882593 79.236953 \r\nL 89.956973 77.147265 \r\nL 93.031353 75.035626 \r\nL 96.105733 72.69256 \r\nL 99.180114 70.568999 \r\nL 102.254494 68.433798 \r\nL 105.328874 66.33545 \r\nL 108.403254 64.387856 \r\nL 111.477634 62.630083 \r\nL 114.552014 61.34765 \r\nL 117.626395 60.07448 \r\nL 120.700775 58.797484 \r\nL 123.775155 57.871051 \r\nL 126.849535 57.061581 \r\nL 129.923915 56.285419 \r\nL 132.998295 55.479775 \r\nL 136.072676 54.688992 \r\nL 139.147056 54.207934 \r\nL 142.221436 53.62397 \r\nL 145.295816 53.017813 \r\nL 148.370196 52.395708 \r\nL 151.444576 51.994758 \r\nL 154.518957 51.310386 \r\nL 157.593337 50.866663 \r\nL 160.667717 50.271059 \r\nL 163.742097 49.927262 \r\nL 166.816477 49.356589 \r\nL 169.890857 48.889587 \r\nL 172.965238 48.34461 \r\nL 176.039618 47.872493 \r\nL 179.113998 47.56873 \r\nL 182.188378 46.838604 \r\nL 185.262758 46.636095 \r\nL 188.337138 46.137678 \r\nL 191.411519 45.777085 \r\nL 194.485899 45.516941 \r\nL 197.560279 45.176366 \r\nL 200.634659 44.729663 \r\nL 203.709039 44.536378 \r\nL 206.783419 44.066959 \r\nL 209.8578 43.784583 \r\nL 212.93218 43.457822 \r\nL 216.00656 43.14838 \r\nL 219.08094 42.85223 \r\nL 222.15532 42.492966 \r\nL 225.2297 42.171361 \r\nL 228.304081 41.83864 \r\nL 231.378461 41.499957 \r\nL 234.452841 41.24658 \r\nL 237.527221 41.140694 \r\nL 240.601601 40.854814 \r\nL 243.675981 40.614687 \r\nL 246.750362 40.270326 \r\nL 249.824742 40.114135 \r\nL 252.899122 39.763289 \r\nL 255.973502 39.448974 \r\nL 259.047882 39.290044 \r\nL 262.122262 39.19314 \r\nL 265.196643 38.836052 \r\nL 268.271023 38.552628 \r\nL 271.345403 38.473566 \r\nL 274.419783 38.215839 \r\nL 277.494163 38.061501 \r\nL 280.568543 37.753992 \r\nL 283.642924 37.582899 \r\nL 286.717304 37.365206 \r\nL 289.791684 37.132692 \r\nL 292.866064 36.864936 \r\nL 295.940444 36.785068 \r\nL 299.014824 36.539505 \r\nL 302.089205 36.377353 \r\nL 305.163585 36.117451 \r\nL 308.237965 35.976162 \r\nL 311.312345 35.744131 \r\nL 314.386725 35.584154 \r\nL 317.461105 35.296904 \r\nL 320.535486 35.269275 \r\nL 323.609866 35.088193 \r\nL 326.684246 34.864298 \r\nL 329.758626 34.80042 \r\nL 332.833006 34.50286 \r\nL 335.907386 34.330961 \r\nL 338.981767 34.23756 \r\nL 342.056147 34.023976 \r\nL 345.130527 33.869114 \r\nL 348.204907 33.627095 \r\nL 351.279287 33.582146 \r\nL 354.353667 33.335254 \r\nL 357.428048 33.010668 \r\nL 360.502428 32.92782 \r\nL 363.576808 32.902365 \r\nL 366.651188 32.765668 \r\nL 369.725568 32.40423 \r\n\" style=\"fill:none;stroke:#1f77b4;stroke-linecap:square;stroke-width:1.5;\"/>\r\n   </g>\r\n   <g id=\"line2d_15\">\r\n    <path clip-path=\"url(#pf752d92f5a)\" d=\"M 65.361932 166.984463 \r\nL 68.436312 144.203739 \r\nL 71.510692 96.965998 \r\nL 74.585072 92.553261 \r\nL 77.659452 88.493504 \r\nL 80.733833 83.370335 \r\nL 83.808213 80.120613 \r\nL 86.882593 77.73284 \r\nL 89.956973 75.165315 \r\nL 93.031353 72.570724 \r\nL 96.105733 70.668078 \r\nL 99.180114 68.672314 \r\nL 102.254494 66.894201 \r\nL 105.328874 64.45121 \r\nL 108.403254 62.956844 \r\nL 111.477634 60.263697 \r\nL 114.552014 59.630193 \r\nL 117.626395 58.142311 \r\nL 120.700775 57.8781 \r\nL 123.775155 56.324164 \r\nL 126.849535 55.374452 \r\nL 129.923915 55.209844 \r\nL 132.998295 54.521162 \r\nL 136.072676 53.326732 \r\nL 139.147056 53.236835 \r\nL 142.221436 52.155017 \r\nL 145.295816 51.301726 \r\nL 148.370196 51.168533 \r\nL 151.444576 50.389914 \r\nL 154.518957 50.209074 \r\nL 157.593337 49.879897 \r\nL 160.667717 48.945369 \r\nL 163.742097 49.333027 \r\nL 166.816477 48.324875 \r\nL 169.890857 47.508356 \r\nL 172.965238 46.609553 \r\nL 176.039618 47.467194 \r\nL 179.113998 45.522338 \r\nL 182.188378 45.92953 \r\nL 185.262758 45.383748 \r\nL 188.337138 44.611654 \r\nL 191.411519 45.005796 \r\nL 194.485899 44.654951 \r\nL 197.560279 43.742091 \r\nL 200.634659 43.474617 \r\nL 203.709039 43.488674 \r\nL 206.783419 43.338162 \r\nL 209.8578 42.842201 \r\nL 212.93218 42.503237 \r\nL 216.00656 42.226016 \r\nL 219.08094 41.328341 \r\nL 222.15532 41.657518 \r\nL 225.2297 40.968795 \r\nL 228.304081 40.32772 \r\nL 231.378461 40.563819 \r\nL 234.452841 39.99528 \r\nL 237.527221 39.798209 \r\nL 240.601601 39.340148 \r\nL 243.675981 39.292501 \r\nL 246.750362 39.515551 \r\nL 249.824742 38.816034 \r\nL 252.899122 38.675229 \r\nL 255.973502 38.741322 \r\nL 259.047882 38.398008 \r\nL 262.122262 37.71581 \r\nL 265.196643 38.194452 \r\nL 268.271023 37.293474 \r\nL 271.345403 37.201443 \r\nL 274.419783 38.007087 \r\nL 277.494163 37.190609 \r\nL 280.568543 37.109372 \r\nL 283.642924 36.552796 \r\nL 286.717304 36.682727 \r\nL 289.791684 36.321047 \r\nL 292.866064 36.329706 \r\nL 295.940444 36.081726 \r\nL 299.014824 35.860811 \r\nL 302.089205 35.76012 \r\nL 305.163585 35.917117 \r\nL 308.237965 35.437428 \r\nL 311.312345 35.517537 \r\nL 314.386725 35.134189 \r\nL 317.461105 34.903567 \r\nL 320.535486 34.539712 \r\nL 323.609866 34.586272 \r\nL 326.684246 34.323107 \r\nL 329.758626 34.718377 \r\nL 332.833006 34.161761 \r\nL 335.907386 33.652831 \r\nL 338.981767 33.820662 \r\nL 342.056147 33.656053 \r\nL 345.130527 33.23698 \r\nL 348.204907 33.087555 \r\nL 351.279287 33.049655 \r\nL 354.353667 32.839575 \r\nL 357.428048 32.883959 \r\nL 360.502428 32.878562 \r\nL 363.576808 32.498436 \r\nL 366.651188 33.038821 \r\nL 369.725568 32.201761 \r\n\" style=\"fill:none;stroke:#ff7f0e;stroke-linecap:square;stroke-width:1.5;\"/>\r\n   </g>\r\n   <g id=\"patch_3\">\r\n    <path d=\"M 50.14375 239.758125 \r\nL 50.14375 22.318125 \r\n\" style=\"fill:none;stroke:#000000;stroke-linecap:square;stroke-linejoin:miter;stroke-width:0.8;\"/>\r\n   </g>\r\n   <g id=\"patch_4\">\r\n    <path d=\"M 384.94375 239.758125 \r\nL 384.94375 22.318125 \r\n\" style=\"fill:none;stroke:#000000;stroke-linecap:square;stroke-linejoin:miter;stroke-width:0.8;\"/>\r\n   </g>\r\n   <g id=\"patch_5\">\r\n    <path d=\"M 50.14375 239.758125 \r\nL 384.94375 239.758125 \r\n\" style=\"fill:none;stroke:#000000;stroke-linecap:square;stroke-linejoin:miter;stroke-width:0.8;\"/>\r\n   </g>\r\n   <g id=\"patch_6\">\r\n    <path d=\"M 50.14375 22.318125 \r\nL 384.94375 22.318125 \r\n\" style=\"fill:none;stroke:#000000;stroke-linecap:square;stroke-linejoin:miter;stroke-width:0.8;\"/>\r\n   </g>\r\n   <g id=\"text_16\">\r\n    <!-- model accuracy -->\r\n    <defs>\r\n     <path d=\"M 52 44.1875 \r\nQ 55.375 50.25 60.0625 53.125 \r\nQ 64.75 56 71.09375 56 \r\nQ 79.640625 56 84.28125 50.015625 \r\nQ 88.921875 44.046875 88.921875 33.015625 \r\nL 88.921875 0 \r\nL 79.890625 0 \r\nL 79.890625 32.71875 \r\nQ 79.890625 40.578125 77.09375 44.375 \r\nQ 74.3125 48.1875 68.609375 48.1875 \r\nQ 61.625 48.1875 57.5625 43.546875 \r\nQ 53.515625 38.921875 53.515625 30.90625 \r\nL 53.515625 0 \r\nL 44.484375 0 \r\nL 44.484375 32.71875 \r\nQ 44.484375 40.625 41.703125 44.40625 \r\nQ 38.921875 48.1875 33.109375 48.1875 \r\nQ 26.21875 48.1875 22.15625 43.53125 \r\nQ 18.109375 38.875 18.109375 30.90625 \r\nL 18.109375 0 \r\nL 9.078125 0 \r\nL 9.078125 54.6875 \r\nL 18.109375 54.6875 \r\nL 18.109375 46.1875 \r\nQ 21.1875 51.21875 25.484375 53.609375 \r\nQ 29.78125 56 35.6875 56 \r\nQ 41.65625 56 45.828125 52.96875 \r\nQ 50 49.953125 52 44.1875 \r\nz\r\n\" id=\"DejaVuSans-109\"/>\r\n     <path d=\"M 45.40625 46.390625 \r\nL 45.40625 75.984375 \r\nL 54.390625 75.984375 \r\nL 54.390625 0 \r\nL 45.40625 0 \r\nL 45.40625 8.203125 \r\nQ 42.578125 3.328125 38.25 0.953125 \r\nQ 33.9375 -1.421875 27.875 -1.421875 \r\nQ 17.96875 -1.421875 11.734375 6.484375 \r\nQ 5.515625 14.40625 5.515625 27.296875 \r\nQ 5.515625 40.1875 11.734375 48.09375 \r\nQ 17.96875 56 27.875 56 \r\nQ 33.9375 56 38.25 53.625 \r\nQ 42.578125 51.265625 45.40625 46.390625 \r\nz\r\nM 14.796875 27.296875 \r\nQ 14.796875 17.390625 18.875 11.75 \r\nQ 22.953125 6.109375 30.078125 6.109375 \r\nQ 37.203125 6.109375 41.296875 11.75 \r\nQ 45.40625 17.390625 45.40625 27.296875 \r\nQ 45.40625 37.203125 41.296875 42.84375 \r\nQ 37.203125 48.484375 30.078125 48.484375 \r\nQ 22.953125 48.484375 18.875 42.84375 \r\nQ 14.796875 37.203125 14.796875 27.296875 \r\nz\r\n\" id=\"DejaVuSans-100\"/>\r\n     <path d=\"M 9.421875 75.984375 \r\nL 18.40625 75.984375 \r\nL 18.40625 0 \r\nL 9.421875 0 \r\nz\r\n\" id=\"DejaVuSans-108\"/>\r\n     <path id=\"DejaVuSans-32\"/>\r\n     <path d=\"M 8.5 21.578125 \r\nL 8.5 54.6875 \r\nL 17.484375 54.6875 \r\nL 17.484375 21.921875 \r\nQ 17.484375 14.15625 20.5 10.265625 \r\nQ 23.53125 6.390625 29.59375 6.390625 \r\nQ 36.859375 6.390625 41.078125 11.03125 \r\nQ 45.3125 15.671875 45.3125 23.6875 \r\nL 45.3125 54.6875 \r\nL 54.296875 54.6875 \r\nL 54.296875 0 \r\nL 45.3125 0 \r\nL 45.3125 8.40625 \r\nQ 42.046875 3.421875 37.71875 1 \r\nQ 33.40625 -1.421875 27.6875 -1.421875 \r\nQ 18.265625 -1.421875 13.375 4.4375 \r\nQ 8.5 10.296875 8.5 21.578125 \r\nz\r\nM 31.109375 56 \r\nz\r\n\" id=\"DejaVuSans-117\"/>\r\n     <path d=\"M 41.109375 46.296875 \r\nQ 39.59375 47.171875 37.8125 47.578125 \r\nQ 36.03125 48 33.890625 48 \r\nQ 26.265625 48 22.1875 43.046875 \r\nQ 18.109375 38.09375 18.109375 28.8125 \r\nL 18.109375 0 \r\nL 9.078125 0 \r\nL 9.078125 54.6875 \r\nL 18.109375 54.6875 \r\nL 18.109375 46.1875 \r\nQ 20.953125 51.171875 25.484375 53.578125 \r\nQ 30.03125 56 36.53125 56 \r\nQ 37.453125 56 38.578125 55.875 \r\nQ 39.703125 55.765625 41.0625 55.515625 \r\nz\r\n\" id=\"DejaVuSans-114\"/>\r\n     <path d=\"M 32.171875 -5.078125 \r\nQ 28.375 -14.84375 24.75 -17.8125 \r\nQ 21.140625 -20.796875 15.09375 -20.796875 \r\nL 7.90625 -20.796875 \r\nL 7.90625 -13.28125 \r\nL 13.1875 -13.28125 \r\nQ 16.890625 -13.28125 18.9375 -11.515625 \r\nQ 21 -9.765625 23.484375 -3.21875 \r\nL 25.09375 0.875 \r\nL 2.984375 54.6875 \r\nL 12.5 54.6875 \r\nL 29.59375 11.921875 \r\nL 46.6875 54.6875 \r\nL 56.203125 54.6875 \r\nz\r\n\" id=\"DejaVuSans-121\"/>\r\n    </defs>\r\n    <g transform=\"translate(169.882188 16.318125)scale(0.12 -0.12)\">\r\n     <use xlink:href=\"#DejaVuSans-109\"/>\r\n     <use x=\"97.412109\" xlink:href=\"#DejaVuSans-111\"/>\r\n     <use x=\"158.59375\" xlink:href=\"#DejaVuSans-100\"/>\r\n     <use x=\"222.070312\" xlink:href=\"#DejaVuSans-101\"/>\r\n     <use x=\"283.59375\" xlink:href=\"#DejaVuSans-108\"/>\r\n     <use x=\"311.376953\" xlink:href=\"#DejaVuSans-32\"/>\r\n     <use x=\"343.164062\" xlink:href=\"#DejaVuSans-97\"/>\r\n     <use x=\"404.443359\" xlink:href=\"#DejaVuSans-99\"/>\r\n     <use x=\"459.423828\" xlink:href=\"#DejaVuSans-99\"/>\r\n     <use x=\"514.404297\" xlink:href=\"#DejaVuSans-117\"/>\r\n     <use x=\"577.783203\" xlink:href=\"#DejaVuSans-114\"/>\r\n     <use x=\"618.896484\" xlink:href=\"#DejaVuSans-97\"/>\r\n     <use x=\"680.175781\" xlink:href=\"#DejaVuSans-99\"/>\r\n     <use x=\"735.15625\" xlink:href=\"#DejaVuSans-121\"/>\r\n    </g>\r\n   </g>\r\n   <g id=\"legend_1\">\r\n    <g id=\"patch_7\">\r\n     <path d=\"M 57.14375 59.674375 \r\nL 112.41875 59.674375 \r\nQ 114.41875 59.674375 114.41875 57.674375 \r\nL 114.41875 29.318125 \r\nQ 114.41875 27.318125 112.41875 27.318125 \r\nL 57.14375 27.318125 \r\nQ 55.14375 27.318125 55.14375 29.318125 \r\nL 55.14375 57.674375 \r\nQ 55.14375 59.674375 57.14375 59.674375 \r\nz\r\n\" style=\"fill:#ffffff;opacity:0.8;stroke:#cccccc;stroke-linejoin:miter;\"/>\r\n    </g>\r\n    <g id=\"line2d_16\">\r\n     <path d=\"M 59.14375 35.416562 \r\nL 79.14375 35.416562 \r\n\" style=\"fill:none;stroke:#1f77b4;stroke-linecap:square;stroke-width:1.5;\"/>\r\n    </g>\r\n    <g id=\"line2d_17\"/>\r\n    <g id=\"text_17\">\r\n     <!-- train -->\r\n     <defs>\r\n      <path d=\"M 18.3125 70.21875 \r\nL 18.3125 54.6875 \r\nL 36.8125 54.6875 \r\nL 36.8125 47.703125 \r\nL 18.3125 47.703125 \r\nL 18.3125 18.015625 \r\nQ 18.3125 11.328125 20.140625 9.421875 \r\nQ 21.96875 7.515625 27.59375 7.515625 \r\nL 36.8125 7.515625 \r\nL 36.8125 0 \r\nL 27.59375 0 \r\nQ 17.1875 0 13.234375 3.875 \r\nQ 9.28125 7.765625 9.28125 18.015625 \r\nL 9.28125 47.703125 \r\nL 2.6875 47.703125 \r\nL 2.6875 54.6875 \r\nL 9.28125 54.6875 \r\nL 9.28125 70.21875 \r\nz\r\n\" id=\"DejaVuSans-116\"/>\r\n      <path d=\"M 9.421875 54.6875 \r\nL 18.40625 54.6875 \r\nL 18.40625 0 \r\nL 9.421875 0 \r\nz\r\nM 9.421875 75.984375 \r\nL 18.40625 75.984375 \r\nL 18.40625 64.59375 \r\nL 9.421875 64.59375 \r\nz\r\n\" id=\"DejaVuSans-105\"/>\r\n      <path d=\"M 54.890625 33.015625 \r\nL 54.890625 0 \r\nL 45.90625 0 \r\nL 45.90625 32.71875 \r\nQ 45.90625 40.484375 42.875 44.328125 \r\nQ 39.84375 48.1875 33.796875 48.1875 \r\nQ 26.515625 48.1875 22.3125 43.546875 \r\nQ 18.109375 38.921875 18.109375 30.90625 \r\nL 18.109375 0 \r\nL 9.078125 0 \r\nL 9.078125 54.6875 \r\nL 18.109375 54.6875 \r\nL 18.109375 46.1875 \r\nQ 21.34375 51.125 25.703125 53.5625 \r\nQ 30.078125 56 35.796875 56 \r\nQ 45.21875 56 50.046875 50.171875 \r\nQ 54.890625 44.34375 54.890625 33.015625 \r\nz\r\n\" id=\"DejaVuSans-110\"/>\r\n     </defs>\r\n     <g transform=\"translate(87.14375 38.916562)scale(0.1 -0.1)\">\r\n      <use xlink:href=\"#DejaVuSans-116\"/>\r\n      <use x=\"39.208984\" xlink:href=\"#DejaVuSans-114\"/>\r\n      <use x=\"80.322266\" xlink:href=\"#DejaVuSans-97\"/>\r\n      <use x=\"141.601562\" xlink:href=\"#DejaVuSans-105\"/>\r\n      <use x=\"169.384766\" xlink:href=\"#DejaVuSans-110\"/>\r\n     </g>\r\n    </g>\r\n    <g id=\"line2d_18\">\r\n     <path d=\"M 59.14375 50.094687 \r\nL 79.14375 50.094687 \r\n\" style=\"fill:none;stroke:#ff7f0e;stroke-linecap:square;stroke-width:1.5;\"/>\r\n    </g>\r\n    <g id=\"line2d_19\"/>\r\n    <g id=\"text_18\">\r\n     <!-- test -->\r\n     <defs>\r\n      <path d=\"M 44.28125 53.078125 \r\nL 44.28125 44.578125 \r\nQ 40.484375 46.53125 36.375 47.5 \r\nQ 32.28125 48.484375 27.875 48.484375 \r\nQ 21.1875 48.484375 17.84375 46.4375 \r\nQ 14.5 44.390625 14.5 40.28125 \r\nQ 14.5 37.15625 16.890625 35.375 \r\nQ 19.28125 33.59375 26.515625 31.984375 \r\nL 29.59375 31.296875 \r\nQ 39.15625 29.25 43.1875 25.515625 \r\nQ 47.21875 21.78125 47.21875 15.09375 \r\nQ 47.21875 7.46875 41.1875 3.015625 \r\nQ 35.15625 -1.421875 24.609375 -1.421875 \r\nQ 20.21875 -1.421875 15.453125 -0.5625 \r\nQ 10.6875 0.296875 5.421875 2 \r\nL 5.421875 11.28125 \r\nQ 10.40625 8.6875 15.234375 7.390625 \r\nQ 20.0625 6.109375 24.8125 6.109375 \r\nQ 31.15625 6.109375 34.5625 8.28125 \r\nQ 37.984375 10.453125 37.984375 14.40625 \r\nQ 37.984375 18.0625 35.515625 20.015625 \r\nQ 33.0625 21.96875 24.703125 23.78125 \r\nL 21.578125 24.515625 \r\nQ 13.234375 26.265625 9.515625 29.90625 \r\nQ 5.8125 33.546875 5.8125 39.890625 \r\nQ 5.8125 47.609375 11.28125 51.796875 \r\nQ 16.75 56 26.8125 56 \r\nQ 31.78125 56 36.171875 55.265625 \r\nQ 40.578125 54.546875 44.28125 53.078125 \r\nz\r\n\" id=\"DejaVuSans-115\"/>\r\n     </defs>\r\n     <g transform=\"translate(87.14375 53.594687)scale(0.1 -0.1)\">\r\n      <use xlink:href=\"#DejaVuSans-116\"/>\r\n      <use x=\"39.208984\" xlink:href=\"#DejaVuSans-101\"/>\r\n      <use x=\"100.732422\" xlink:href=\"#DejaVuSans-115\"/>\r\n      <use x=\"152.832031\" xlink:href=\"#DejaVuSans-116\"/>\r\n     </g>\r\n    </g>\r\n   </g>\r\n  </g>\r\n </g>\r\n <defs>\r\n  <clipPath id=\"pf752d92f5a\">\r\n   <rect height=\"217.44\" width=\"334.8\" x=\"50.14375\" y=\"22.318125\"/>\r\n  </clipPath>\r\n </defs>\r\n</svg>\r\n",
      "image/png": "[encoded data removed]"
     },
     "metadata": {
      "needs_background": "light"
     }
    }
   ],
   "metadata": {}
  },
  {
   "cell_type": "markdown",
   "source": [
    "# decoder model"
   ],
   "metadata": {}
  },
  {
   "cell_type": "code",
   "execution_count": 24,
   "source": [
    "encoder_model = Model(image_input, encoder_state)\r\n",
    "\r\n",
    "decoder_state_input_h = Input(shape=(128,))\r\n",
    "decoder_state_input_c = Input(shape=(128,))\r\n",
    "decoder_states_inputs = [decoder_state_input_h, decoder_state_input_c]\r\n",
    "decoder_outputs, state_h, state_c = decoder_rnn_layer(\r\n",
    "    decoder_inputs, initial_state=decoder_states_inputs)\r\n",
    "decoder_states = [state_h, state_c]\r\n",
    "decoder_outputs = decoder_dense(decoder_outputs)\r\n",
    "decoder_model = Model(\r\n",
    "    [decoder_inputs] + decoder_states_inputs,\r\n",
    "    [decoder_outputs] + decoder_states)"
   ],
   "outputs": [],
   "metadata": {}
  },
  {
   "cell_type": "markdown",
   "source": [
    "## Reverse-lookup token index in order to decode sequences back to something readable."
   ],
   "metadata": {}
  },
  {
   "cell_type": "code",
   "execution_count": 25,
   "source": [
    "reverse_target_char_index = dict((i, char) for char, i in target_token_index.items())"
   ],
   "outputs": [],
   "metadata": {}
  },
  {
   "cell_type": "markdown",
   "source": [
    "# Part 5: ................................Decode sequence..........................................."
   ],
   "metadata": {}
  },
  {
   "cell_type": "code",
   "execution_count": 26,
   "source": [
    "def decode_sequence(input_seq):\r\n",
    "    # Encode the input as state vectors.\r\n",
    "    states_value = encoder_model.predict(input_seq)\r\n",
    "\r\n",
    "    # Generate empty target sequence of length 1.\r\n",
    "    target_seq = np.zeros((1, 1, num_decoder_tokens))\r\n",
    "    # Populate the first character of target sequence with the start character.\r\n",
    "    target_seq[0, 0, target_token_index['startseq']] = 1.\r\n",
    "\r\n",
    "    # Sampling loop for a batch of sequences\r\n",
    "    stop_condition = False\r\n",
    "    #decoded_sentence = ''\r\n",
    "    decoded_sentence = []\r\n",
    "    while not stop_condition:\r\n",
    "        output_tokens, h, c = decoder_model.predict([target_seq] + states_value)\r\n",
    "        \r\n",
    "        # Sample a token\r\n",
    "        sampled_token_index = np.argmax(output_tokens[0, -1, :])\r\n",
    "        sampled_char = reverse_target_char_index[sampled_token_index]\r\n",
    "        #decoded_sentence += sampled_char\r\n",
    "        decoded_sentence.append(sampled_char)\r\n",
    "        # Exit condition: either hit max length\r\n",
    "        # or find stop character.\r\n",
    "        if sampled_char == 'endseq' or sampled_char == 'startseq' or len(decoded_sentence) > max_decoder_seq_length:\r\n",
    "            stop_condition = True\r\n",
    "\r\n",
    "        # Update the target sequence (of length 1).\r\n",
    "        target_seq = np.zeros((1, 1, num_decoder_tokens))\r\n",
    "        target_seq[0, 0, sampled_token_index] = 1.\r\n",
    "\r\n",
    "        # Update states\r\n",
    "        states_value = [h, c]\r\n",
    "\r\n",
    "    return decoded_sentence"
   ],
   "outputs": [],
   "metadata": {}
  },
  {
   "cell_type": "code",
   "execution_count": 27,
   "source": [
    "for seq_index in range(3):\r\n",
    "    # Take one sequence (part of the training set)\r\n",
    "    # for trying out decoding.\r\n",
    "    input_seq = encoder_input_data[seq_index: seq_index + 1]\r\n",
    "    decoded_sentence = decode_sequence(input_seq)\r\n",
    "    \r\n",
    "    print('-')\r\n",
    "    print('Image input shape:', input_seq.shape)\r\n",
    "    #print('Input sequence:', training_features[seq_index])\r\n",
    "    print('Decoded svg code:', decoded_sentence)"
   ],
   "outputs": [
    {
     "output_type": "stream",
     "name": "stdout",
     "text": [
      "-\n",
      "Image input shape: (1, 64, 64, 4)\n",
      "Decoded svg code: ['<svg', 'baseProfile=\"full\"', 'height=\"64\"', 'version=\"1.1\"', 'width=\"64\"', 'xmlns=\"http://www.w3.org/2000/svg\"', 'xmlns:ev=\"http://www.w3.org/2001/xml-events\"', 'xmlns:xlink=\"http://www.w3.org/1999/xlink\"><defs', '/><ellipse', 'cx=\"32.0\"', 'cy=\"8.0\"', 'fill=\"red\"', 'rx=\"32.0\"', 'ry=\"32.0\"', '/><ellipse', 'cx=\"8.0\"', 'cy=\"56.0\"', 'fill=\"red\"', 'rx=\"16.0\"', 'ry=\"16.0\"', '/><ellipse', 'cx=\"32.0\"', 'cy=\"8.0\"', 'fill=\"gray\"', 'rx=\"16.0\"', 'ry=\"16.0\"', '/></svg>', 'endseq']\n",
      "-\n",
      "Image input shape: (1, 64, 64, 4)\n",
      "Decoded svg code: ['<svg', 'baseProfile=\"full\"', 'height=\"64\"', 'version=\"1.1\"', 'width=\"64\"', 'xmlns=\"http://www.w3.org/2000/svg\"', 'xmlns:ev=\"http://www.w3.org/2001/xml-events\"', 'xmlns:xlink=\"http://www.w3.org/1999/xlink\"><defs', '/><ellipse', 'cx=\"8.0\"', 'cy=\"32.0\"', 'fill=\"navy\"', 'rx=\"32.0\"', 'ry=\"16.0\"', '/><ellipse', 'cx=\"8.0\"', 'cy=\"8.0\"', 'fill=\"purple\"', 'rx=\"16.0\"', 'ry=\"8.0\"', '/></svg>', 'endseq']\n",
      "-\n",
      "Image input shape: (1, 64, 64, 4)\n",
      "Decoded svg code: ['<svg', 'baseProfile=\"full\"', 'height=\"64\"', 'version=\"1.1\"', 'width=\"64\"', 'xmlns=\"http://www.w3.org/2000/svg\"', 'xmlns:ev=\"http://www.w3.org/2001/xml-events\"', 'xmlns:xlink=\"http://www.w3.org/1999/xlink\"><defs', '/><ellipse', 'cx=\"32.0\"', 'cy=\"56.0\"', 'fill=\"aqua\"', 'rx=\"32.0\"', 'ry=\"32.0\"', '/><rect', 'fill=\"aqua\"', 'height=\"32.0\"', 'width=\"8.0\"', 'x=\"8.0\"', 'y=\"32.0\"', '/><rect', 'fill=\"magenta\"', 'height=\"16.0\"', 'width=\"32.0\"', 'x=\"8.0\"', 'y=\"56.0\"', '/></svg>', 'endseq']\n"
     ]
    }
   ],
   "metadata": {}
  },
  {
   "cell_type": "markdown",
   "source": [
    "# Part 6 ...................................Test data preparation..........................................\n"
   ],
   "metadata": {}
  },
  {
   "cell_type": "markdown",
   "source": [
    "# step 1: load test data"
   ],
   "metadata": {}
  },
  {
   "cell_type": "code",
   "execution_count": 28,
   "source": [
    "def png_extraction(file_name, svg):\r\n",
    "    png_extract = []\r\n",
    "    for num in range(48000,50000):\r\n",
    "        file = Image.open(file_name+str(num)+svg)\r\n",
    "        file = np.asarray(file)\r\n",
    "        png_extract.append(file)\r\n",
    "    \r\n",
    "    png_extract = np.array(png_extract)\r\n",
    "    return png_extract\r\n",
    "    file.close()\r\n",
    "PNG_test = png_extraction(path_to_test + 'png/','.png')"
   ],
   "outputs": [],
   "metadata": {}
  },
  {
   "cell_type": "markdown",
   "source": [
    "# Checkpoint"
   ],
   "metadata": {}
  },
  {
   "cell_type": "code",
   "execution_count": 29,
   "source": [
    "PNG_test.shape"
   ],
   "outputs": [
    {
     "output_type": "execute_result",
     "data": {
      "text/plain": [
       "(2000, 64, 64, 4)"
      ]
     },
     "metadata": {},
     "execution_count": 29
    }
   ],
   "metadata": {}
  },
  {
   "cell_type": "markdown",
   "source": [
    "## save PNG as encoder_input_test_data"
   ],
   "metadata": {}
  },
  {
   "cell_type": "code",
   "execution_count": 30,
   "source": [
    "encoder_input_test_data = PNG_test"
   ],
   "outputs": [],
   "metadata": {}
  },
  {
   "cell_type": "markdown",
   "source": [
    "## decode sequence"
   ],
   "metadata": {}
  },
  {
   "cell_type": "code",
   "execution_count": 31,
   "source": [
    "decoded_predictions = []\r\n",
    "for seq_index in range(2000):\r\n",
    "\r\n",
    "    input_seq = encoder_input_test_data[seq_index: seq_index + 1]\r\n",
    "    decoded_sentence = decode_sequence(input_seq)\r\n",
    "    \r\n",
    "    decoded_predictions.append(decoded_sentence)"
   ],
   "outputs": [],
   "metadata": {}
  },
  {
   "cell_type": "markdown",
   "source": [
    "# part 7: ......................................clean output data..........................................\n",
    "- remove endseq\n",
    "- retrieve and append first line for all svg codes\n",
    "- join all words in lists\n",
    "- transform list into string"
   ],
   "metadata": {}
  },
  {
   "cell_type": "code",
   "execution_count": 36,
   "source": [
    "first_line = '<?xml version=\"1.0\" encoding=\"utf-8\" ?>'\r\n",
    "clean_predictions = []\r\n",
    "decoded_predictions[0]\r\n",
    "for index, i in enumerate(decoded_predictions):\r\n",
    "    #remove 'endseq'\r\n",
    "    i = i[:-1]\r\n",
    "    i = (\" \").join(i)\r\n",
    "    clean_predictions.append(i)"
   ],
   "outputs": [],
   "metadata": {}
  },
  {
   "cell_type": "markdown",
   "source": [
    "## create 2000 empty files\n",
    "- create an empty file in your directory\n",
    "- name it result"
   ],
   "metadata": {}
  },
  {
   "cell_type": "code",
   "execution_count": 34,
   "source": [
    "for i in range(48000,50000):\r\n",
    "    i = str(i)\r\n",
    "    open(save_path + i + '.svg', 'a').close()"
   ],
   "outputs": [],
   "metadata": {}
  },
  {
   "cell_type": "markdown",
   "source": [
    "## append codes in empty svg files"
   ],
   "metadata": {}
  },
  {
   "cell_type": "code",
   "execution_count": 37,
   "source": [
    "first_line = '<?xml version=\"1.0\" encoding=\"utf-8\" ?>'\r\n",
    "\r\n",
    "count = 0\r\n",
    "for index, code in enumerate(clean_predictions):\r\n",
    "    index = 48000 + count\r\n",
    "    index = str(index)\r\n",
    "    file = open(save_path+index+'.svg', 'a')\r\n",
    "    file.write(first_line+'\\n')\r\n",
    "    file.write(code)\r\n",
    "    count += 1\r\n",
    "    \r\n",
    "file.close()"
   ],
   "outputs": [],
   "metadata": {}
  }
 ],
 "metadata": {
  "kernelspec": {
   "name": "python3",
   "display_name": "Python 3.7.7 64-bit"
  },
  "language_info": {
   "codemirror_mode": {
    "name": "ipython",
    "version": 3
   },
   "file_extension": ".py",
   "mimetype": "text/x-python",
   "name": "python",
   "nbconvert_exporter": "python",
   "pygments_lexer": "ipython3",
   "version": "3.7.7"
  },
  "interpreter": {
   "hash": "cb29fa9efbffbabdf5681116848c44724c386a6551667b18376f3b8741d7b95d"
  }
 },
 "nbformat": 4,
 "nbformat_minor": 4
}
